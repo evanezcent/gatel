{
 "cells": [
  {
   "cell_type": "code",
   "execution_count": 1,
   "metadata": {},
   "outputs": [],
   "source": [
    "import math\n",
    "import numpy as np\n",
    "import pandas as pd\n",
    "import random as rd"
   ]
  },
  {
   "cell_type": "code",
   "execution_count": 2,
   "metadata": {},
   "outputs": [
    {
     "name": "stdout",
     "output_type": "stream",
     "text": [
      "1 -3\n"
     ]
    }
   ],
   "source": [
    "x1 = rd.randrange(-4, 4)\n",
    "x2 = rd.randrange(-3, 3)\n",
    "\n",
    "print(x1, x2)"
   ]
  },
  {
   "cell_type": "markdown",
   "metadata": {},
   "source": [
    "### Formula's initialitation"
   ]
  },
  {
   "cell_type": "code",
   "execution_count": 10,
   "metadata": {},
   "outputs": [
    {
     "name": "stdout",
     "output_type": "stream",
     "text": [
      "0.42413447706055746\n"
     ]
    }
   ],
   "source": [
    "def rumus(x1, x2):\n",
    "    hasil = (4 - (2.1 * (x1**2)) + ((x1**4)/3)) * (x1**2) + (x1*x2) + (-4 + (4*(x2**2))) * (x2**2)\n",
    "    return 2**-hasil\n",
    "\n",
    "print(rumus(-0.7, -0.4))"
   ]
  },
  {
   "cell_type": "markdown",
   "metadata": {},
   "source": [
    "### Formula to decode the kromosom "
   ]
  },
  {
   "cell_type": "code",
   "execution_count": 4,
   "metadata": {},
   "outputs": [],
   "source": [
    "def decodeRumus(x):\n",
    "    if (x1 <= x2):\n",
    "        xmin = x1\n",
    "        xmax = x2\n",
    "    else:\n",
    "        xmin = x2\n",
    "        xmax =x1\n",
    "    # because the gene is 14 bit, half of them is 7 bit\n",
    "    # then decimal of 7 bit is 127\n",
    "    return (xmin + ((x - 0) / (127 - 0)) * (xmax - xmin))"
   ]
  },
  {
   "cell_type": "markdown",
   "metadata": {},
   "source": [
    "### Individu"
   ]
  },
  {
   "cell_type": "code",
   "execution_count": 5,
   "metadata": {},
   "outputs": [
    {
     "name": "stdout",
     "output_type": "stream",
     "text": [
      "[1, 0, 0, 1, 1, 1, 0, 1, 1, 1, 1, 0, 0, 0] ---\n",
      "GEN I 1\n",
      "X GEN  1\n",
      "GEN IDX  1\n",
      "Y GEN  1\n",
      "GEN I 0\n",
      "GEN IDX  1\n",
      "Y GEN  3\n",
      "GEN I 0\n",
      "GEN IDX  1\n",
      "Y GEN  7\n",
      "GEN I 1\n",
      "X GEN  9\n",
      "GEN IDX  1\n",
      "Y GEN  15\n",
      "GEN I 1\n",
      "X GEN  25\n",
      "GEN IDX  0\n",
      "GEN I 1\n",
      "X GEN  57\n",
      "GEN IDX  0\n",
      "GEN I 0\n",
      "GEN IDX  0\n",
      "-1.204724409448819 X Fenotip\n",
      "-2.52755905511811 Y Fenotip\n"
     ]
    }
   ],
   "source": [
    "\n",
    "class Individu():\n",
    "    def __init__(self):\n",
    "        # length of\n",
    "        self.genes = []\n",
    "        self.xFenotype = 0\n",
    "        self.yFenotype = 0\n",
    "        # Kromosom's initialitation with 14 dna\n",
    "        for i in range (14):\n",
    "            self.genes.append(rd.randint(0,1))\n",
    "    \n",
    "    # get Kromosom\n",
    "    def getGene(self):\n",
    "        return self.genes\n",
    "    \n",
    "    # Decode kromosom\n",
    "    def decodeKromosom(self):\n",
    "        i = 0\n",
    "        gen = self.genes\n",
    "        idx = 7\n",
    "        xGenotype = 0 \n",
    "        yGenotype = 0\n",
    "        \n",
    "        \n",
    "        while i < 7 :\n",
    "            print(\"GEN I\",gen[i])\n",
    "            if gen[i] == 1:\n",
    "                xGenotype = xGenotype + (2**i)\n",
    "                print(\"X GEN \",xGenotype)\n",
    "            print(\"GEN IDX \",gen[idx])\n",
    "            if gen[idx] == 1:\n",
    "                yGenotype = yGenotype + (2**i)\n",
    "                print(\"Y GEN \",yGenotype)\n",
    "            i += 1\n",
    "            idx += 1\n",
    "            \n",
    "        self.xFenotype = decodeRumus(xGenotype)\n",
    "        self.yFenotype = decodeRumus(yGenotype)\n",
    "\n",
    "\n",
    "\n",
    "# DEBUGGING\n",
    "\n",
    "newInd = Individu()\n",
    "print(newInd.getGene(), \"---\")\n",
    "newInd.decodeKromosom()\n",
    "print(newInd.xFenotype, \"X Fenotip\")\n",
    "print(newInd.yFenotype, \"Y Fenotip\")"
   ]
  },
  {
   "cell_type": "markdown",
   "metadata": {},
   "source": [
    "### Population"
   ]
  },
  {
   "cell_type": "code",
   "execution_count": 6,
   "metadata": {},
   "outputs": [
    {
     "name": "stdout",
     "output_type": "stream",
     "text": [
      "0\n",
      "GEN I 1\n",
      "X GEN  1\n",
      "GEN IDX  0\n",
      "GEN I 1\n",
      "X GEN  3\n",
      "GEN IDX  0\n",
      "GEN I 1\n",
      "X GEN  7\n",
      "GEN IDX  1\n",
      "Y GEN  4\n",
      "GEN I 0\n",
      "GEN IDX  0\n",
      "GEN I 0\n",
      "GEN IDX  0\n",
      "GEN I 1\n",
      "X GEN  39\n",
      "GEN IDX  1\n",
      "Y GEN  36\n",
      "GEN I 0\n",
      "GEN IDX  0\n",
      "1\n",
      "GEN I 1\n",
      "X GEN  1\n",
      "GEN IDX  0\n",
      "GEN I 0\n",
      "GEN IDX  0\n",
      "GEN I 0\n",
      "GEN IDX  0\n",
      "GEN I 0\n",
      "GEN IDX  0\n",
      "GEN I 0\n",
      "GEN IDX  0\n",
      "GEN I 0\n",
      "GEN IDX  0\n",
      "GEN I 0\n",
      "GEN IDX  1\n",
      "Y GEN  64\n",
      "2\n",
      "GEN I 1\n",
      "X GEN  1\n",
      "GEN IDX  0\n",
      "GEN I 1\n",
      "X GEN  3\n",
      "GEN IDX  1\n",
      "Y GEN  2\n",
      "GEN I 0\n",
      "GEN IDX  0\n",
      "GEN I 0\n",
      "GEN IDX  1\n",
      "Y GEN  10\n",
      "GEN I 1\n",
      "X GEN  19\n",
      "GEN IDX  0\n",
      "GEN I 0\n",
      "GEN IDX  1\n",
      "Y GEN  42\n",
      "GEN I 0\n",
      "GEN IDX  0\n",
      "3\n",
      "GEN I 0\n",
      "GEN IDX  1\n",
      "Y GEN  1\n",
      "GEN I 1\n",
      "X GEN  2\n",
      "GEN IDX  0\n",
      "GEN I 0\n",
      "GEN IDX  0\n",
      "GEN I 1\n",
      "X GEN  10\n",
      "GEN IDX  1\n",
      "Y GEN  9\n",
      "GEN I 0\n",
      "GEN IDX  1\n",
      "Y GEN  25\n",
      "GEN I 0\n",
      "GEN IDX  0\n",
      "GEN I 1\n",
      "X GEN  74\n",
      "GEN IDX  1\n",
      "Y GEN  89\n",
      "4\n",
      "GEN I 0\n",
      "GEN IDX  1\n",
      "Y GEN  1\n",
      "GEN I 1\n",
      "X GEN  2\n",
      "GEN IDX  0\n",
      "GEN I 0\n",
      "GEN IDX  1\n",
      "Y GEN  5\n",
      "GEN I 0\n",
      "GEN IDX  0\n",
      "GEN I 0\n",
      "GEN IDX  1\n",
      "Y GEN  21\n",
      "GEN I 0\n",
      "GEN IDX  0\n",
      "GEN I 1\n",
      "X GEN  66\n",
      "GEN IDX  1\n",
      "Y GEN  85\n",
      "5\n",
      "GEN I 0\n",
      "GEN IDX  0\n",
      "GEN I 1\n",
      "X GEN  2\n",
      "GEN IDX  0\n",
      "GEN I 1\n",
      "X GEN  6\n",
      "GEN IDX  1\n",
      "Y GEN  4\n",
      "GEN I 1\n",
      "X GEN  14\n",
      "GEN IDX  0\n",
      "GEN I 1\n",
      "X GEN  30\n",
      "GEN IDX  1\n",
      "Y GEN  20\n",
      "GEN I 1\n",
      "X GEN  62\n",
      "GEN IDX  0\n",
      "GEN I 1\n",
      "X GEN  126\n",
      "GEN IDX  0\n",
      "6\n",
      "GEN I 0\n",
      "GEN IDX  0\n",
      "GEN I 1\n",
      "X GEN  2\n",
      "GEN IDX  1\n",
      "Y GEN  2\n",
      "GEN I 1\n",
      "X GEN  6\n",
      "GEN IDX  1\n",
      "Y GEN  6\n",
      "GEN I 1\n",
      "X GEN  14\n",
      "GEN IDX  1\n",
      "Y GEN  14\n",
      "GEN I 0\n",
      "GEN IDX  0\n",
      "GEN I 0\n",
      "GEN IDX  0\n",
      "GEN I 0\n",
      "GEN IDX  0\n",
      "7\n",
      "GEN I 0\n",
      "GEN IDX  1\n",
      "Y GEN  1\n",
      "GEN I 1\n",
      "X GEN  2\n",
      "GEN IDX  0\n",
      "GEN I 1\n",
      "X GEN  6\n",
      "GEN IDX  0\n",
      "GEN I 0\n",
      "GEN IDX  0\n",
      "GEN I 1\n",
      "X GEN  22\n",
      "GEN IDX  0\n",
      "GEN I 0\n",
      "GEN IDX  1\n",
      "Y GEN  33\n",
      "GEN I 0\n",
      "GEN IDX  0\n",
      "8\n",
      "GEN I 0\n",
      "GEN IDX  1\n",
      "Y GEN  1\n",
      "GEN I 0\n",
      "GEN IDX  0\n",
      "GEN I 1\n",
      "X GEN  4\n",
      "GEN IDX  0\n",
      "GEN I 0\n",
      "GEN IDX  1\n",
      "Y GEN  9\n",
      "GEN I 0\n",
      "GEN IDX  0\n",
      "GEN I 1\n",
      "X GEN  36\n",
      "GEN IDX  0\n",
      "GEN I 1\n",
      "X GEN  100\n",
      "GEN IDX  1\n",
      "Y GEN  73\n",
      "9\n",
      "GEN I 0\n",
      "GEN IDX  1\n",
      "Y GEN  1\n",
      "GEN I 1\n",
      "X GEN  2\n",
      "GEN IDX  0\n",
      "GEN I 1\n",
      "X GEN  6\n",
      "GEN IDX  0\n",
      "GEN I 1\n",
      "X GEN  14\n",
      "GEN IDX  0\n",
      "GEN I 1\n",
      "X GEN  30\n",
      "GEN IDX  1\n",
      "Y GEN  17\n",
      "GEN I 1\n",
      "X GEN  62\n",
      "GEN IDX  1\n",
      "Y GEN  49\n",
      "GEN I 0\n",
      "GEN IDX  0\n",
      "[1, 1, 1, 0, 0, 1, 0, 0, 0, 1, 0, 0, 1, 0]\n",
      "[1, 0, 0, 0, 0, 0, 0, 0, 0, 0, 0, 0, 0, 1]\n",
      "[1, 1, 0, 0, 1, 0, 0, 0, 1, 0, 1, 0, 1, 0]\n",
      "[0, 1, 0, 1, 0, 0, 1, 1, 0, 0, 1, 1, 0, 1]\n",
      "[0, 1, 0, 0, 0, 0, 1, 1, 0, 1, 0, 1, 0, 1]\n",
      "[0, 1, 1, 1, 1, 1, 1, 0, 0, 1, 0, 1, 0, 0]\n",
      "[0, 1, 1, 1, 0, 0, 0, 0, 1, 1, 1, 0, 0, 0]\n",
      "[0, 1, 1, 0, 1, 0, 0, 1, 0, 0, 0, 0, 1, 0]\n",
      "[0, 0, 1, 0, 0, 1, 1, 1, 0, 0, 1, 0, 0, 1]\n",
      "[0, 1, 1, 1, 1, 1, 0, 1, 0, 0, 0, 1, 1, 0]\n"
     ]
    }
   ],
   "source": [
    "class Population():\n",
    "    def __init__(self):\n",
    "        self.populationx = []\n",
    "        self.populationy = []\n",
    "        self.population = []\n",
    "        # Make a population with 10 individu\n",
    "        for i in range (10):\n",
    "            new = Individu()\n",
    "            self.population.append(new)\n",
    "            \n",
    "    def setFenotype(self):\n",
    "        for i in range (10):\n",
    "            print(i)\n",
    "            self.population[i].decodeKromosom()\n",
    "            self.populationx.append(self.population[i].xFenotype)\n",
    "            self.populationy.append(self.population[i].yFenotype)\n",
    "    \n",
    "newPop = Population()\n",
    "newPop.setFenotype()\n",
    "for i in range(10):\n",
    "    print(newPop.population[i].getGene())"
   ]
  },
  {
   "cell_type": "markdown",
   "metadata": {},
   "source": [
    "##### Get the fitness for every individu"
   ]
  },
  {
   "cell_type": "code",
   "execution_count": 7,
   "metadata": {
    "scrolled": true
   },
   "outputs": [
    {
     "name": "stdout",
     "output_type": "stream",
     "text": [
      "0  X :  -1.7716535433070866 Y :  -1.8661417322834646\n",
      "[8.719959083053948e-13, [1, 1, 1, 0, 0, 1, 0, 0, 0, 1, 0, 0, 1, 0]]\n",
      "1  X :  -2.968503937007874 Y :  -0.984251968503937\n",
      "[9.397477100489971e-32, [1, 0, 0, 0, 0, 0, 0, 0, 0, 0, 0, 0, 0, 1]]\n",
      "2  X :  -2.4015748031496065 Y :  -1.6771653543307086\n",
      "[3.016910777654983e-13, [1, 1, 0, 0, 1, 0, 0, 0, 1, 0, 1, 0, 1, 0]]\n",
      "3  X :  -0.6692913385826773 Y :  -0.1968503937007875\n",
      "[0.38338459051510076, [0, 1, 0, 1, 0, 0, 1, 1, 0, 0, 1, 1, 0, 1]]\n",
      "4  X :  -0.9212598425196852 Y :  -0.3228346456692912\n",
      "[0.24828076976435975, [0, 1, 0, 0, 0, 0, 1, 1, 0, 1, 0, 1, 0, 1]]\n",
      "5  X :  0.9685039370078741 Y :  -2.3700787401574805\n",
      "[6.3720731339998e-32, [0, 1, 1, 1, 1, 1, 1, 0, 0, 1, 0, 1, 0, 0]]\n",
      "6  X :  -2.559055118110236 Y :  -2.559055118110236\n",
      "[2.079034316720814e-55, [0, 1, 1, 1, 0, 0, 0, 0, 1, 1, 1, 0, 0, 0]]\n",
      "7  X :  -2.3070866141732282 Y :  -1.9606299212598426\n",
      "[6.96988204810256e-19, [0, 1, 1, 0, 1, 0, 0, 1, 0, 0, 0, 0, 1, 0]]\n",
      "8  X :  0.1496062992125986 Y :  -0.7007874015748032\n",
      "[2.022368184907675, [0, 0, 1, 0, 0, 1, 1, 1, 0, 0, 1, 0, 0, 1]]\n",
      "9  X :  -1.047244094488189 Y :  -1.4566929133858268\n",
      "[9.58291341978605e-05, [0, 1, 1, 1, 1, 1, 0, 1, 0, 0, 0, 1, 1, 0]]\n",
      "== SORTED ==\n"
     ]
    },
    {
     "data": {
      "text/plain": [
       "[[2.079034316720814e-55, [0, 1, 1, 1, 0, 0, 0, 0, 1, 1, 1, 0, 0, 0]],\n",
       " [6.3720731339998e-32, [0, 1, 1, 1, 1, 1, 1, 0, 0, 1, 0, 1, 0, 0]],\n",
       " [9.397477100489971e-32, [1, 0, 0, 0, 0, 0, 0, 0, 0, 0, 0, 0, 0, 1]],\n",
       " [6.96988204810256e-19, [0, 1, 1, 0, 1, 0, 0, 1, 0, 0, 0, 0, 1, 0]],\n",
       " [3.016910777654983e-13, [1, 1, 0, 0, 1, 0, 0, 0, 1, 0, 1, 0, 1, 0]],\n",
       " [8.719959083053948e-13, [1, 1, 1, 0, 0, 1, 0, 0, 0, 1, 0, 0, 1, 0]],\n",
       " [9.58291341978605e-05, [0, 1, 1, 1, 1, 1, 0, 1, 0, 0, 0, 1, 1, 0]],\n",
       " [0.24828076976435975, [0, 1, 0, 0, 0, 0, 1, 1, 0, 1, 0, 1, 0, 1]],\n",
       " [0.38338459051510076, [0, 1, 0, 1, 0, 0, 1, 1, 0, 0, 1, 1, 0, 1]],\n",
       " [2.022368184907675, [0, 0, 1, 0, 0, 1, 1, 1, 0, 0, 1, 0, 0, 1]]]"
      ]
     },
     "execution_count": 7,
     "metadata": {},
     "output_type": "execute_result"
    }
   ],
   "source": [
    "fitness = []\n",
    "for i in range (10):\n",
    "    print(i,\" X : \", newPop.populationx[i], \"Y : \", newPop.populationy[i])\n",
    "    fitness.append([rumus(newPop.populationx[i], newPop.populationy[i]), newPop.population[i].getGene()])\n",
    "    print(fitness[i])\n",
    "fitness.sort()\n",
    "print(\"== SORTED ==\")\n",
    "fitness"
   ]
  },
  {
   "cell_type": "markdown",
   "metadata": {},
   "source": [
    "### Roulette Wheel"
   ]
  },
  {
   "cell_type": "code",
   "execution_count": 12,
   "metadata": {
    "scrolled": true
   },
   "outputs": [
    {
     "data": {
      "text/plain": [
       "[7.83320638712839e-56,\n",
       " 2.4008148192197054e-32,\n",
       " 3.5407004614794896e-32,\n",
       " 2.6260521116766177e-19,\n",
       " 1.1366856517403487e-13,\n",
       " 3.2854310597725866e-13,\n",
       " 3.610567560306733e-05,\n",
       " 0.09354508946186388,\n",
       " 0.14444834310797808,\n",
       " 0.7619704617541126]"
      ]
     },
     "execution_count": 12,
     "metadata": {},
     "output_type": "execute_result"
    }
   ],
   "source": [
    "sumFit = 0\n",
    "for i in range (10):\n",
    "    sumFit = sumFit + fitness[i][0]\n",
    "# probabilitas for every individu to be parent\n",
    "probFit = []\n",
    "for i in range (10):\n",
    "    probFit.append(fitness[i][0]/sumFit)\n",
    "probFit"
   ]
  },
  {
   "cell_type": "markdown",
   "metadata": {},
   "source": [
    "##### Formula to choose the parents"
   ]
  },
  {
   "cell_type": "code",
   "execution_count": 13,
   "metadata": {},
   "outputs": [],
   "source": [
    "def chooseParent(x):\n",
    "    if (x <= probFit[0]):\n",
    "        return fitness[0][1]\n",
    "    elif (x <= probFit[1]):\n",
    "        return fitness[1][1]\n",
    "    elif (x <= probFit[2]):\n",
    "        return fitness[2][1]\n",
    "    elif (x <= probFit[3]):\n",
    "        return fitness[3][1]\n",
    "    elif (x <= probFit[4]):\n",
    "        return fitness[4][1]\n",
    "    elif (x <= probFit[5]):\n",
    "        return fitness[5][1]\n",
    "    elif (x <= probFit[6]):\n",
    "        return fitness[6][1]\n",
    "    elif (x <= probFit[7]):\n",
    "        return fitness[7][1]\n",
    "    elif (x <= probFit[8]):\n",
    "        return fitness[8][1]\n",
    "    elif (x <= probFit[9]):\n",
    "        return fitness[9][1]"
   ]
  },
  {
   "cell_type": "markdown",
   "metadata": {},
   "source": [
    "##### Choose the parents"
   ]
  },
  {
   "cell_type": "code",
   "execution_count": 54,
   "metadata": {},
   "outputs": [
    {
     "name": "stdout",
     "output_type": "stream",
     "text": [
      "0.0029422835877456147 ----- 0.1466273286208545\n",
      "[0, 1, 0, 1, 0, 0, 1, 1, 0, 1, 0, 1, 0, 1]     [0, 1, 0, 0, 0, 0, 1, 1, 0, 1, 1, 0, 0, 1]\n"
     ]
    }
   ],
   "source": [
    "ch1 = rd.uniform(0,0.151)\n",
    "ch2 = rd.uniform(0,0.151)\n",
    "\n",
    "print(ch1, \"-----\", ch2)\n",
    "\n",
    "parent1 = chooseParent(ch1)\n",
    "parent2 = chooseParent(ch2)\n",
    "\n",
    "print(parent1, \"   \", parent2)"
   ]
  },
  {
   "cell_type": "markdown",
   "metadata": {},
   "source": [
    "##### Formula for crossover"
   ]
  },
  {
   "cell_type": "code",
   "execution_count": 57,
   "metadata": {},
   "outputs": [],
   "source": [
    "def crossOver(p1, p2):\n",
    "    # crossover first 3 bit\n",
    "    idx = 5\n",
    "    for i in range (5):\n",
    "        p1[i],p2[i] = p2[i],p1[i]"
   ]
  },
  {
   "cell_type": "code",
   "execution_count": 114,
   "metadata": {
    "scrolled": true
   },
   "outputs": [
    {
     "name": "stdout",
     "output_type": "stream",
     "text": [
      "[0, 1, 0, 0, 0, 0, 1, 1, 0, 1, 0, 0, 0, 0]     [1, 1, 1, 0, 0, 0, 1, 0, 0, 0, 0, 0, 0, 1]\n"
     ]
    }
   ],
   "source": [
    "# check the result\n",
    "crossOver(parent1, parent2)\n",
    "print(parent1, \"   \", parent2)"
   ]
  },
  {
   "cell_type": "markdown",
   "metadata": {},
   "source": [
    "### Get new individu"
   ]
  },
  {
   "cell_type": "markdown",
   "metadata": {},
   "source": [
    "##### Formula for genes mutation"
   ]
  },
  {
   "cell_type": "code",
   "execution_count": 108,
   "metadata": {},
   "outputs": [],
   "source": [
    "def mutasiGen(indiv):\n",
    "    print(len(indiv))\n",
    "    index = rd.randint(0,14)\n",
    "    if (indiv[index] == 1): \n",
    "        indiv[index] = 0\n",
    "    else: \n",
    "        indiv[index] = 1"
   ]
  },
  {
   "cell_type": "markdown",
   "metadata": {},
   "source": [
    "##### A chance is the new individu is mutated or not"
   ]
  },
  {
   "cell_type": "code",
   "execution_count": 113,
   "metadata": {},
   "outputs": [
    {
     "name": "stdout",
     "output_type": "stream",
     "text": [
      "14\n",
      "14\n",
      "0.7596218034216528 ----- 0.9359202263775104\n",
      "[1, 1, 1, 0, 0, 0, 1, 1, 0, 1, 0, 0, 0, 0]     [0, 1, 0, 0, 0, 0, 1, 0, 0, 0, 0, 0, 0, 1]\n"
     ]
    }
   ],
   "source": [
    "newIndiv1 = parent1\n",
    "newIndiv2 = parent2\n",
    "\n",
    "isMutation1 = rd.uniform(0,1)\n",
    "isMutation2 = rd.uniform(0,1)\n",
    "\n",
    "print(isMutation1, \"-----\", isMutation2)\n",
    "\n",
    "if (isMutation1 <= 0.2):\n",
    "    mutasiGen(newIndiv1)\n",
    "if (isMutation2 <= 0.2):\n",
    "    mutasiGen(newIndiv2)\n",
    "\n",
    "print(newIndiv1, \"   \", newIndiv2)"
   ]
  }
 ],
 "metadata": {
  "kernelspec": {
   "display_name": "Python 3",
   "language": "python",
   "name": "python3"
  },
  "language_info": {
   "codemirror_mode": {
    "name": "ipython",
    "version": 3
   },
   "file_extension": ".py",
   "mimetype": "text/x-python",
   "name": "python",
   "nbconvert_exporter": "python",
   "pygments_lexer": "ipython3",
   "version": "3.7.1"
  }
 },
 "nbformat": 4,
 "nbformat_minor": 2
}
