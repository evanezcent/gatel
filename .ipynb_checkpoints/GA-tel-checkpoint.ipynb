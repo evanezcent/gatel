{
 "cells": [
  {
   "cell_type": "code",
   "execution_count": 1,
   "metadata": {},
   "outputs": [],
   "source": [
    "import math\n",
    "import numpy as np\n",
    "import pandas as pd\n",
    "import random as rd"
   ]
  },
  {
   "cell_type": "code",
   "execution_count": 3,
   "metadata": {},
   "outputs": [
    {
     "name": "stdout",
     "output_type": "stream",
     "text": [
      "3 -2\n"
     ]
    }
   ],
   "source": [
    "x1 = rd.randrange(-4, 4)\n",
    "x2 = rd.randrange(-3, 3)\n",
    "\n",
    "print(x1, x2)"
   ]
  },
  {
   "cell_type": "markdown",
   "metadata": {},
   "source": [
    "### Formula's initialitation"
   ]
  },
  {
   "cell_type": "code",
   "execution_count": 4,
   "metadata": {},
   "outputs": [
    {
     "name": "stdout",
     "output_type": "stream",
     "text": [
      "0.42413447706055746\n"
     ]
    }
   ],
   "source": [
    "def rumus(x1, x2):\n",
    "    hasil = (4 - (2.1 * (x1**2)) + ((x1**4)/3)) * (x1**2) + (x1*x2) + (-4 + (4*(x2**2))) * (x2**2)\n",
    "    return 2**-hasil\n",
    "\n",
    "print(rumus(-0.7, -0.4))"
   ]
  },
  {
   "cell_type": "markdown",
   "metadata": {},
   "source": [
    "### Formula to decode the kromosom "
   ]
  },
  {
   "cell_type": "code",
   "execution_count": 5,
   "metadata": {},
   "outputs": [],
   "source": [
    "def decodeRumus(x):\n",
    "    if (x1 <= x2):\n",
    "        xmin = x1\n",
    "        xmax = x2\n",
    "    else:\n",
    "        xmin = x2\n",
    "        xmax =x1\n",
    "    # because the gene is 14 bit, half of them is 7 bit\n",
    "    # then decimal of 7 bit is 127\n",
    "    return (xmin + ((x - 0) / (127 - 0)) * (xmax - xmin))"
   ]
  },
  {
   "cell_type": "markdown",
   "metadata": {},
   "source": [
    "### Individu"
   ]
  },
  {
   "cell_type": "code",
   "execution_count": 6,
   "metadata": {},
   "outputs": [],
   "source": [
    "class Individu():\n",
    "    def __init__(self):\n",
    "        # length of\n",
    "        self.genes = []\n",
    "        self.xFenotype = 0\n",
    "        self.yFenotype = 0\n",
    "        # Kromosom's initialitation with 14 dna\n",
    "        for i in range (14):\n",
    "            self.genes.append(rd.randint(0,1))\n",
    "    \n",
    "    # get Kromosom\n",
    "    def getGene(self):\n",
    "        return self.genes\n",
    "    \n",
    "    # Decode kromosom\n",
    "    def decodeKromosom(self):\n",
    "        i = 0\n",
    "        gen = self.genes\n",
    "        idx = 7\n",
    "        xGenotype = 0 \n",
    "        yGenotype = 0\n",
    "        \n",
    "        \n",
    "        while i < 7 :\n",
    "            print(\"GEN I\",gen[i])\n",
    "            if gen[i] == 1:\n",
    "                xGenotype = xGenotype + (2**i)\n",
    "                print(\"X GEN \",xGenotype)\n",
    "            print(\"GEN IDX \",gen[idx])\n",
    "            if gen[idx] == 1:\n",
    "                yGenotype = yGenotype + (2**i)\n",
    "                print(\"Y GEN \",yGenotype)\n",
    "            i += 1\n",
    "            idx += 1\n",
    "            \n",
    "        self.xFenotype = decodeRumus(xGenotype)\n",
    "        self.yFenotype = decodeRumus(yGenotype)\n",
    "    \n",
    "    # set Gene\n",
    "    def setGene(self, newGene):\n",
    "        self.genes = newGene\n",
    "\n",
    "\n",
    "# DEBUGGING\n",
    "\n",
    "# newInd = Individu()\n",
    "# print(newInd.getGene(), \"---\")\n",
    "# newInd.decodeKromosom()\n",
    "# print(newInd.xFenotype, \"X Fenotip\")\n",
    "# print(newInd.yFenotype, \"Y Fenotip\")"
   ]
  },
  {
   "cell_type": "markdown",
   "metadata": {},
   "source": [
    "### Population"
   ]
  },
  {
   "cell_type": "code",
   "execution_count": 7,
   "metadata": {},
   "outputs": [
    {
     "name": "stdout",
     "output_type": "stream",
     "text": [
      "0\n",
      "GEN I 0\n",
      "GEN IDX  0\n",
      "GEN I 0\n",
      "GEN IDX  0\n",
      "GEN I 0\n",
      "GEN IDX  1\n",
      "Y GEN  4\n",
      "GEN I 1\n",
      "X GEN  8\n",
      "GEN IDX  1\n",
      "Y GEN  12\n",
      "GEN I 1\n",
      "X GEN  24\n",
      "GEN IDX  1\n",
      "Y GEN  28\n",
      "GEN I 0\n",
      "GEN IDX  0\n",
      "GEN I 0\n",
      "GEN IDX  1\n",
      "Y GEN  92\n",
      "1\n",
      "GEN I 1\n",
      "X GEN  1\n",
      "GEN IDX  0\n",
      "GEN I 0\n",
      "GEN IDX  0\n",
      "GEN I 0\n",
      "GEN IDX  0\n",
      "GEN I 1\n",
      "X GEN  9\n",
      "GEN IDX  0\n",
      "GEN I 1\n",
      "X GEN  25\n",
      "GEN IDX  0\n",
      "GEN I 1\n",
      "X GEN  57\n",
      "GEN IDX  1\n",
      "Y GEN  32\n",
      "GEN I 0\n",
      "GEN IDX  0\n",
      "2\n",
      "GEN I 0\n",
      "GEN IDX  0\n",
      "GEN I 0\n",
      "GEN IDX  0\n",
      "GEN I 1\n",
      "X GEN  4\n",
      "GEN IDX  1\n",
      "Y GEN  4\n",
      "GEN I 1\n",
      "X GEN  12\n",
      "GEN IDX  0\n",
      "GEN I 1\n",
      "X GEN  28\n",
      "GEN IDX  0\n",
      "GEN I 0\n",
      "GEN IDX  0\n",
      "GEN I 1\n",
      "X GEN  92\n",
      "GEN IDX  1\n",
      "Y GEN  68\n",
      "3\n",
      "GEN I 0\n",
      "GEN IDX  0\n",
      "GEN I 1\n",
      "X GEN  2\n",
      "GEN IDX  0\n",
      "GEN I 1\n",
      "X GEN  6\n",
      "GEN IDX  1\n",
      "Y GEN  4\n",
      "GEN I 1\n",
      "X GEN  14\n",
      "GEN IDX  0\n",
      "GEN I 1\n",
      "X GEN  30\n",
      "GEN IDX  1\n",
      "Y GEN  20\n",
      "GEN I 0\n",
      "GEN IDX  1\n",
      "Y GEN  52\n",
      "GEN I 1\n",
      "X GEN  94\n",
      "GEN IDX  1\n",
      "Y GEN  116\n",
      "4\n",
      "GEN I 0\n",
      "GEN IDX  1\n",
      "Y GEN  1\n",
      "GEN I 1\n",
      "X GEN  2\n",
      "GEN IDX  0\n",
      "GEN I 1\n",
      "X GEN  6\n",
      "GEN IDX  1\n",
      "Y GEN  5\n",
      "GEN I 0\n",
      "GEN IDX  1\n",
      "Y GEN  13\n",
      "GEN I 1\n",
      "X GEN  22\n",
      "GEN IDX  0\n",
      "GEN I 0\n",
      "GEN IDX  0\n",
      "GEN I 1\n",
      "X GEN  86\n",
      "GEN IDX  0\n",
      "5\n",
      "GEN I 0\n",
      "GEN IDX  0\n",
      "GEN I 1\n",
      "X GEN  2\n",
      "GEN IDX  0\n",
      "GEN I 1\n",
      "X GEN  6\n",
      "GEN IDX  1\n",
      "Y GEN  4\n",
      "GEN I 1\n",
      "X GEN  14\n",
      "GEN IDX  0\n",
      "GEN I 0\n",
      "GEN IDX  1\n",
      "Y GEN  20\n",
      "GEN I 0\n",
      "GEN IDX  1\n",
      "Y GEN  52\n",
      "GEN I 1\n",
      "X GEN  78\n",
      "GEN IDX  1\n",
      "Y GEN  116\n",
      "6\n",
      "GEN I 1\n",
      "X GEN  1\n",
      "GEN IDX  1\n",
      "Y GEN  1\n",
      "GEN I 0\n",
      "GEN IDX  1\n",
      "Y GEN  3\n",
      "GEN I 0\n",
      "GEN IDX  1\n",
      "Y GEN  7\n",
      "GEN I 1\n",
      "X GEN  9\n",
      "GEN IDX  1\n",
      "Y GEN  15\n",
      "GEN I 0\n",
      "GEN IDX  0\n",
      "GEN I 0\n",
      "GEN IDX  0\n",
      "GEN I 1\n",
      "X GEN  73\n",
      "GEN IDX  1\n",
      "Y GEN  79\n",
      "7\n",
      "GEN I 1\n",
      "X GEN  1\n",
      "GEN IDX  1\n",
      "Y GEN  1\n",
      "GEN I 0\n",
      "GEN IDX  1\n",
      "Y GEN  3\n",
      "GEN I 0\n",
      "GEN IDX  1\n",
      "Y GEN  7\n",
      "GEN I 0\n",
      "GEN IDX  0\n",
      "GEN I 0\n",
      "GEN IDX  1\n",
      "Y GEN  23\n",
      "GEN I 0\n",
      "GEN IDX  0\n",
      "GEN I 0\n",
      "GEN IDX  0\n",
      "8\n",
      "GEN I 0\n",
      "GEN IDX  0\n",
      "GEN I 0\n",
      "GEN IDX  1\n",
      "Y GEN  2\n",
      "GEN I 1\n",
      "X GEN  4\n",
      "GEN IDX  0\n",
      "GEN I 0\n",
      "GEN IDX  1\n",
      "Y GEN  10\n",
      "GEN I 0\n",
      "GEN IDX  0\n",
      "GEN I 1\n",
      "X GEN  36\n",
      "GEN IDX  1\n",
      "Y GEN  42\n",
      "GEN I 0\n",
      "GEN IDX  1\n",
      "Y GEN  106\n",
      "9\n",
      "GEN I 1\n",
      "X GEN  1\n",
      "GEN IDX  1\n",
      "Y GEN  1\n",
      "GEN I 1\n",
      "X GEN  3\n",
      "GEN IDX  0\n",
      "GEN I 0\n",
      "GEN IDX  0\n",
      "GEN I 0\n",
      "GEN IDX  1\n",
      "Y GEN  9\n",
      "GEN I 1\n",
      "X GEN  19\n",
      "GEN IDX  0\n",
      "GEN I 1\n",
      "X GEN  51\n",
      "GEN IDX  0\n",
      "GEN I 1\n",
      "X GEN  115\n",
      "GEN IDX  1\n",
      "Y GEN  73\n",
      "[0, 0, 0, 1, 1, 0, 0, 0, 0, 1, 1, 1, 0, 1]\n",
      "[1, 0, 0, 1, 1, 1, 0, 0, 0, 0, 0, 0, 1, 0]\n",
      "[0, 0, 1, 1, 1, 0, 1, 0, 0, 1, 0, 0, 0, 1]\n",
      "[0, 1, 1, 1, 1, 0, 1, 0, 0, 1, 0, 1, 1, 1]\n",
      "[0, 1, 1, 0, 1, 0, 1, 1, 0, 1, 1, 0, 0, 0]\n",
      "[0, 1, 1, 1, 0, 0, 1, 0, 0, 1, 0, 1, 1, 1]\n",
      "[1, 0, 0, 1, 0, 0, 1, 1, 1, 1, 1, 0, 0, 1]\n",
      "[1, 0, 0, 0, 0, 0, 0, 1, 1, 1, 0, 1, 0, 0]\n",
      "[0, 0, 1, 0, 0, 1, 0, 0, 1, 0, 1, 0, 1, 1]\n",
      "[1, 1, 0, 0, 1, 1, 1, 1, 0, 0, 1, 0, 0, 1]\n"
     ]
    }
   ],
   "source": [
    "class Population():\n",
    "    def __init__(self):\n",
    "        self.populationx = []\n",
    "        self.populationy = []\n",
    "        self.population = []\n",
    "        # Make a population with 10 individu\n",
    "        for i in range (10):\n",
    "            new = Individu()\n",
    "            self.population.append(new)\n",
    "            \n",
    "    def setFenotype(self):\n",
    "        for i in range (10):\n",
    "            print(i)\n",
    "            self.population[i].decodeKromosom()\n",
    "            self.populationx.append(self.population[i].xFenotype)\n",
    "            self.populationy.append(self.population[i].yFenotype)\n",
    "\n",
    "# Population initialitation\n",
    "newPop = Population()\n",
    "newPop.setFenotype()\n",
    "for i in range(10):\n",
    "    print(newPop.population[i].getGene())"
   ]
  },
  {
   "cell_type": "markdown",
   "metadata": {},
   "source": [
    "##### Get the fitness for every individu"
   ]
  },
  {
   "cell_type": "code",
   "execution_count": 8,
   "metadata": {
    "scrolled": true
   },
   "outputs": [
    {
     "name": "stdout",
     "output_type": "stream",
     "text": [
      "0  X :  -1.0551181102362204 Y :  1.6220472440944884\n",
      "[4.492186136468689e-06, [0, 0, 0, 1, 1, 0, 0, 0, 0, 1, 1, 1, 0, 1]]\n",
      "1  X :  0.2440944881889764 Y :  -0.7401574803149606\n",
      "[1.9192896055472228, [1, 0, 0, 1, 1, 1, 0, 0, 0, 0, 0, 0, 1, 0]]\n",
      "2  X :  1.6220472440944884 Y :  0.6771653543307088\n",
      "[0.22322059313859482, [0, 0, 1, 1, 1, 0, 1, 0, 0, 1, 0, 0, 0, 1]]\n",
      "3  X :  1.7007874015748032 Y :  2.5669291338582676\n",
      "[5.234358233603202e-47, [0, 1, 1, 1, 1, 0, 1, 0, 0, 1, 0, 1, 1, 1]]\n",
      "4  X :  1.3858267716535435 Y :  -1.4881889763779528\n",
      "[0.0004895820884495613, [0, 1, 1, 0, 1, 0, 1, 1, 0, 1, 1, 0, 0, 0]]\n",
      "5  X :  1.0708661417322833 Y :  2.5669291338582676\n",
      "[1.3397588238885261e-46, [0, 1, 1, 1, 0, 0, 1, 0, 0, 1, 0, 1, 1, 1]]\n",
      "6  X :  0.8740157480314958 Y :  1.1102362204724407\n",
      "[0.05847354902659053, [1, 0, 0, 1, 0, 0, 1, 1, 1, 1, 1, 0, 0, 1]]\n",
      "7  X :  -1.9606299212598426 Y :  -1.0944881889763778\n",
      "[0.012061405718802334, [1, 0, 0, 0, 0, 0, 0, 1, 1, 1, 0, 1, 0, 0]]\n",
      "8  X :  -0.5826771653543308 Y :  2.1732283464566926\n",
      "[7.399435834820755e-22, [0, 0, 1, 0, 0, 1, 0, 0, 1, 0, 1, 0, 1, 1]]\n",
      "9  X :  2.52755905511811 Y :  0.8740157480314958\n",
      "[3.1398152536354217e-09, [1, 1, 0, 0, 1, 1, 1, 1, 0, 0, 1, 0, 0, 1]]\n",
      "== SORTED ==\n"
     ]
    },
    {
     "data": {
      "text/plain": [
       "[[5.234358233603202e-47, [0, 1, 1, 1, 1, 0, 1, 0, 0, 1, 0, 1, 1, 1]],\n",
       " [1.3397588238885261e-46, [0, 1, 1, 1, 0, 0, 1, 0, 0, 1, 0, 1, 1, 1]],\n",
       " [7.399435834820755e-22, [0, 0, 1, 0, 0, 1, 0, 0, 1, 0, 1, 0, 1, 1]],\n",
       " [3.1398152536354217e-09, [1, 1, 0, 0, 1, 1, 1, 1, 0, 0, 1, 0, 0, 1]],\n",
       " [4.492186136468689e-06, [0, 0, 0, 1, 1, 0, 0, 0, 0, 1, 1, 1, 0, 1]],\n",
       " [0.0004895820884495613, [0, 1, 1, 0, 1, 0, 1, 1, 0, 1, 1, 0, 0, 0]],\n",
       " [0.012061405718802334, [1, 0, 0, 0, 0, 0, 0, 1, 1, 1, 0, 1, 0, 0]],\n",
       " [0.05847354902659053, [1, 0, 0, 1, 0, 0, 1, 1, 1, 1, 1, 0, 0, 1]],\n",
       " [0.22322059313859482, [0, 0, 1, 1, 1, 0, 1, 0, 0, 1, 0, 0, 0, 1]],\n",
       " [1.9192896055472228, [1, 0, 0, 1, 1, 1, 0, 0, 0, 0, 0, 0, 1, 0]]]"
      ]
     },
     "execution_count": 8,
     "metadata": {},
     "output_type": "execute_result"
    }
   ],
   "source": [
    "fitness = []\n",
    "for i in range (10):\n",
    "    print(i,\" X : \", newPop.populationx[i], \"Y : \", newPop.populationy[i])\n",
    "    fitness.append([rumus(newPop.populationx[i], newPop.populationy[i]), newPop.population[i].getGene()])\n",
    "    print(fitness[i])\n",
    "fitness.sort()\n",
    "print(\"== SORTED ==\")\n",
    "fitness"
   ]
  },
  {
   "cell_type": "markdown",
   "metadata": {},
   "source": [
    "### Roulette Wheel"
   ]
  },
  {
   "cell_type": "code",
   "execution_count": 9,
   "metadata": {
    "scrolled": true
   },
   "outputs": [
    {
     "data": {
      "text/plain": [
       "[2.364700910046027e-47,\n",
       " 6.052564170623324e-47,\n",
       " 3.342807632098771e-22,\n",
       " 1.4184592754816258e-09,\n",
       " 2.02941338191354e-06,\n",
       " 0.00022117615157989863,\n",
       " 0.005448923403175764,\n",
       " 0.02641631474688279,\n",
       " 0.10084329657591862,\n",
       " 0.8670682582906017]"
      ]
     },
     "execution_count": 9,
     "metadata": {},
     "output_type": "execute_result"
    }
   ],
   "source": [
    "sumFit = 0\n",
    "for i in range (10):\n",
    "    sumFit = sumFit + fitness[i][0]\n",
    "# probabilitas for every individu to be parent\n",
    "probFit = []\n",
    "for i in range (10):\n",
    "    probFit.append(fitness[i][0]/sumFit)\n",
    "probFit"
   ]
  },
  {
   "cell_type": "markdown",
   "metadata": {},
   "source": [
    "##### Formula to choose the parents"
   ]
  },
  {
   "cell_type": "code",
   "execution_count": 10,
   "metadata": {},
   "outputs": [],
   "source": [
    "def chooseParent(x):\n",
    "    if (x <= probFit[0]):\n",
    "        return fitness[0][1]\n",
    "    elif (x <= probFit[1]):\n",
    "        return fitness[1][1]\n",
    "    elif (x <= probFit[2]):\n",
    "        return fitness[2][1]\n",
    "    elif (x <= probFit[3]):\n",
    "        return fitness[3][1]\n",
    "    elif (x <= probFit[4]):\n",
    "        return fitness[4][1]\n",
    "    elif (x <= probFit[5]):\n",
    "        return fitness[5][1]\n",
    "    elif (x <= probFit[6]):\n",
    "        return fitness[6][1]\n",
    "    elif (x <= probFit[7]):\n",
    "        return fitness[7][1]\n",
    "    elif (x <= probFit[8]):\n",
    "        return fitness[8][1]\n",
    "    elif (x <= probFit[9]):\n",
    "        return fitness[9][1]"
   ]
  },
  {
   "cell_type": "markdown",
   "metadata": {},
   "source": [
    "##### Choose the parents"
   ]
  },
  {
   "cell_type": "code",
   "execution_count": 11,
   "metadata": {},
   "outputs": [
    {
     "name": "stdout",
     "output_type": "stream",
     "text": [
      "0.12352343304311907 ----- 0.025169238910820974\n",
      "[1, 0, 0, 1, 1, 1, 0, 0, 0, 0, 0, 0, 1, 0]     [1, 0, 0, 1, 0, 0, 1, 1, 1, 1, 1, 0, 0, 1]\n"
     ]
    }
   ],
   "source": [
    "ch1 = rd.uniform(0,0.151)\n",
    "ch2 = rd.uniform(0,0.151)\n",
    "\n",
    "print(ch1, \"-----\", ch2)\n",
    "\n",
    "parent1 = chooseParent(ch1)\n",
    "parent2 = chooseParent(ch2)\n",
    "\n",
    "print(parent1, \"   \", parent2)"
   ]
  },
  {
   "cell_type": "markdown",
   "metadata": {},
   "source": [
    "##### Formula for crossover"
   ]
  },
  {
   "cell_type": "code",
   "execution_count": 12,
   "metadata": {},
   "outputs": [],
   "source": [
    "def crossOver(p1, p2):\n",
    "    # crossover first 3 bit\n",
    "    idx = 5\n",
    "    for i in range (5):\n",
    "        p1[i],p2[i] = p2[i],p1[i]"
   ]
  },
  {
   "cell_type": "code",
   "execution_count": 13,
   "metadata": {
    "scrolled": true
   },
   "outputs": [
    {
     "name": "stdout",
     "output_type": "stream",
     "text": [
      "[1, 0, 0, 1, 0, 1, 0, 0, 0, 0, 0, 0, 1, 0]     [1, 0, 0, 1, 1, 0, 1, 1, 1, 1, 1, 0, 0, 1]\n"
     ]
    }
   ],
   "source": [
    "# check the result\n",
    "crossOver(parent1, parent2)\n",
    "print(parent1, \"   \", parent2)"
   ]
  },
  {
   "cell_type": "markdown",
   "metadata": {},
   "source": [
    "### Get new individu"
   ]
  },
  {
   "cell_type": "markdown",
   "metadata": {},
   "source": [
    "##### Formula for genes mutation"
   ]
  },
  {
   "cell_type": "code",
   "execution_count": 14,
   "metadata": {},
   "outputs": [],
   "source": [
    "def mutasiGen(indiv):\n",
    "    index = rd.randint(0,14)\n",
    "    if (indiv[index] == 1): \n",
    "        indiv[index] = 0\n",
    "    else: \n",
    "        indiv[index] = 1"
   ]
  },
  {
   "cell_type": "markdown",
   "metadata": {},
   "source": [
    "##### A chance is the new individu is mutated or not"
   ]
  },
  {
   "cell_type": "code",
   "execution_count": 15,
   "metadata": {},
   "outputs": [
    {
     "name": "stdout",
     "output_type": "stream",
     "text": [
      "0.8846841869971285 ----- 0.4467020408491956\n",
      "[1, 0, 0, 1, 0, 1, 0, 0, 0, 0, 0, 0, 1, 0]     [1, 0, 0, 1, 1, 0, 1, 1, 1, 1, 1, 0, 0, 1]\n"
     ]
    }
   ],
   "source": [
    "newIndiv1 = Individu()\n",
    "newIndiv2 = Individu()\n",
    "\n",
    "newIndiv1.setGene(parent1)\n",
    "newIndiv2.setGene(parent2)\n",
    "\n",
    "isMutation1 = rd.uniform(0,1)\n",
    "isMutation2 = rd.uniform(0,1)\n",
    "\n",
    "print(isMutation1, \"-----\", isMutation2)\n",
    "\n",
    "if (isMutation1 <= 1/14):\n",
    "    mutasiGen(newIndiv1.getGene())\n",
    "if (isMutation2 <= 1/14):\n",
    "    mutasiGen(newIndiv2.getGene())\n",
    "\n",
    "print(newIndiv1.getGene(), \"   \", newIndiv2.getGene())"
   ]
  },
  {
   "cell_type": "markdown",
   "metadata": {},
   "source": [
    "### Get all new populasi"
   ]
  },
  {
   "cell_type": "code",
   "execution_count": 16,
   "metadata": {},
   "outputs": [
    {
     "name": "stdout",
     "output_type": "stream",
     "text": [
      "12\n",
      "[0, 0, 0, 1, 1, 0, 0, 0, 0, 1, 1, 1, 0, 1]\n",
      "[1, 0, 0, 1, 0, 1, 0, 0, 0, 0, 0, 0, 1, 0]\n",
      "[0, 0, 1, 1, 1, 0, 1, 0, 0, 1, 0, 0, 0, 1]\n",
      "[0, 1, 1, 1, 1, 0, 1, 0, 0, 1, 0, 1, 1, 1]\n",
      "[0, 1, 1, 0, 1, 0, 1, 1, 0, 1, 1, 0, 0, 0]\n",
      "[0, 1, 1, 1, 0, 0, 1, 0, 0, 1, 0, 1, 1, 1]\n",
      "[1, 0, 0, 1, 1, 0, 1, 1, 1, 1, 1, 0, 0, 1]\n",
      "[1, 0, 0, 0, 0, 0, 0, 1, 1, 1, 0, 1, 0, 0]\n",
      "[0, 0, 1, 0, 0, 1, 0, 0, 1, 0, 1, 0, 1, 1]\n",
      "[1, 1, 0, 0, 1, 1, 1, 1, 0, 0, 1, 0, 0, 1]\n",
      "[1, 0, 0, 1, 0, 1, 0, 0, 0, 0, 0, 0, 1, 0]\n",
      "[1, 0, 0, 1, 1, 0, 1, 1, 1, 1, 1, 0, 0, 1]\n",
      "New Generasi\n"
     ]
    },
    {
     "data": {
      "text/plain": [
       "[<__main__.Individu at 0x1c85c8a4128>, <__main__.Individu at 0x1c85c8a4240>]"
      ]
     },
     "execution_count": 16,
     "metadata": {},
     "output_type": "execute_result"
    }
   ],
   "source": [
    "newPopulation = []\n",
    "newPopulation.append(newIndiv1)\n",
    "newPopulation.append(newIndiv2)\n",
    "\n",
    "newPop.population.append(newIndiv1)\n",
    "newPop.population.append(newIndiv2)\n",
    "\n",
    "print(len(newPop.population))\n",
    "\n",
    "for i in range (len(newPop.population)):\n",
    "    print(newPop.population[i].getGene())\n",
    "print(\"New Generasi\")\n",
    "\n",
    "Kenapa ortunya ilang dan generasi  barunya dobel "
   ]
  }
 ],
 "metadata": {
  "kernelspec": {
   "display_name": "Python 3",
   "language": "python",
   "name": "python3"
  },
  "language_info": {
   "codemirror_mode": {
    "name": "ipython",
    "version": 3
   },
   "file_extension": ".py",
   "mimetype": "text/x-python",
   "name": "python",
   "nbconvert_exporter": "python",
   "pygments_lexer": "ipython3",
   "version": "3.7.1"
  }
 },
 "nbformat": 4,
 "nbformat_minor": 2
}
