{
 "cells": [
  {
   "cell_type": "code",
   "execution_count": 1,
   "metadata": {},
   "outputs": [],
   "source": [
    "import math\n",
    "import random as rd"
   ]
  },
  {
   "cell_type": "code",
   "execution_count": 2,
   "metadata": {},
   "outputs": [],
   "source": [
    "a = 0.0007\n",
    "kromosom = 14\n",
    "nIndividu = 10\n",
    "halfKromosom = int(kromosom/2)\n",
    "# half of kromosom"
   ]
  },
  {
   "cell_type": "markdown",
   "metadata": {},
   "source": [
    "### Formula's initialitation"
   ]
  },
  {
   "cell_type": "code",
   "execution_count": 3,
   "metadata": {},
   "outputs": [],
   "source": [
    "def rumus(x1, x2):\n",
    "    hasil = (4 - (2.1 * (x1**2)) + ((x1**4)/3)) * (x1**2) + (x1*x2) + (-4 + (4*(x2**2))) * (x2**2) \n",
    "    return 1/(hasil + a)"
   ]
  },
  {
   "cell_type": "markdown",
   "metadata": {},
   "source": [
    "### Formula to decode the kromosom "
   ]
  },
  {
   "cell_type": "code",
   "execution_count": 4,
   "metadata": {},
   "outputs": [],
   "source": [
    "def decodeRumus3(x):\n",
    "    xmin = -3\n",
    "    xmax = 3\n",
    "    return (xmin + ((x - 0) / (127 - 0)) * (xmax - xmin))\n",
    "def decodeRumus2(x):\n",
    "    xmin = -2\n",
    "    xmax = 2\n",
    "    return (xmin + ((x - 0) / (127 - 0)) * (xmax - xmin))"
   ]
  },
  {
   "cell_type": "markdown",
   "metadata": {},
   "source": [
    "### Individu"
   ]
  },
  {
   "cell_type": "code",
   "execution_count": 5,
   "metadata": {},
   "outputs": [],
   "source": [
    "class Individu():\n",
    "    def __init__(self):\n",
    "        # length of\n",
    "        self.genes = []\n",
    "        self.xFenotype = 0\n",
    "        self.yFenotype = 0\n",
    "        # Kromosom's initialitation with 14 dna\n",
    "        for i in range (kromosom):\n",
    "            self.genes.append(rd.randint(0,1))\n",
    "    \n",
    "    # get Kromosom\n",
    "    def getGene(self):\n",
    "        return self.genes\n",
    "    #set Kromosom\n",
    "    def setGene(self, new_gene):\n",
    "        self.genes = new_gene\n",
    "    # Decode kromosom\n",
    "    def decodeKromosom(self):\n",
    "        i = 0\n",
    "        gen = self.genes\n",
    "        idx = halfKromosom\n",
    "        xGenotype = 0 \n",
    "        yGenotype = 0\n",
    "        \n",
    "        while i < halfKromosom :\n",
    "            if gen[i] == 1:\n",
    "                xGenotype = xGenotype + (2**i)\n",
    "            if gen[idx] == 1:\n",
    "                yGenotype = yGenotype + (2**i)\n",
    "            i += 1\n",
    "            idx += 1\n",
    "            \n",
    "        self.xFenotype = decodeRumus3(xGenotype)\n",
    "        self.yFenotype = decodeRumus2(yGenotype)\n",
    "    \n",
    "    # set Gene\n",
    "    def setGene(self, newGene):\n",
    "        self.genes = newGene"
   ]
  },
  {
   "cell_type": "markdown",
   "metadata": {},
   "source": [
    "### Population"
   ]
  },
  {
   "cell_type": "code",
   "execution_count": 6,
   "metadata": {},
   "outputs": [],
   "source": [
    "class Population():\n",
    "    def __init__(self):\n",
    "        self.populationx = []\n",
    "        self.populationy = []\n",
    "        self.population = []\n",
    "        # Make a population with 10 individu\n",
    "   \n",
    "    def insertIndividu(self, new):\n",
    "        self.population.append(new)\n",
    "        new.decodeKromosom()\n",
    "        self.populationx.append(new.xFenotype)\n",
    "        self.populationy.append(new.yFenotype)\n",
    "\n",
    "        \n",
    "    def getPopulation(self):\n",
    "        return self.population"
   ]
  },
  {
   "cell_type": "markdown",
   "metadata": {},
   "source": [
    "##### Get the fitness for every individu"
   ]
  },
  {
   "cell_type": "code",
   "execution_count": 7,
   "metadata": {
    "scrolled": true
   },
   "outputs": [],
   "source": [
    "def getTheFitness(newPop):\n",
    "    fitness = []\n",
    "    for i in range (len(newPop.population)):\n",
    "        print(\" X : \", newPop.populationx[i], \"Y : \", newPop.populationy[i])\n",
    "        fitness.append([rumus(newPop.populationx[i], newPop.populationy[i]), newPop.population[i].getGene()])\n",
    "        print(fitness[i])\n",
    "    return fitness"
   ]
  },
  {
   "cell_type": "markdown",
   "metadata": {},
   "source": [
    "### Roulette Wheel"
   ]
  },
  {
   "cell_type": "code",
   "execution_count": 8,
   "metadata": {
    "scrolled": true
   },
   "outputs": [],
   "source": [
    "def getProbabilitasFitness(fitness):\n",
    "    sumFit = 0\n",
    "    for i in range (nIndividu):\n",
    "        sumFit = sumFit + fitness[i][0]\n",
    "        \n",
    "    # probabilitas for every individu to be parent\n",
    "    probFit = []\n",
    "    for i in range (nIndividu):\n",
    "        probFit.append(fitness[i][0]/sumFit)\n",
    "    return probFit"
   ]
  },
  {
   "cell_type": "markdown",
   "metadata": {},
   "source": [
    "##### Formula to choose the parents"
   ]
  },
  {
   "cell_type": "code",
   "execution_count": 9,
   "metadata": {},
   "outputs": [],
   "source": [
    "def chooseParent(x, probFit, fitness):\n",
    "    hasil = 0\n",
    "    for i in range(nIndividu):\n",
    "        if (x <= probFit[i]):\n",
    "            hasil = fitness[i][1]\n",
    "    return hasil"
   ]
  },
  {
   "cell_type": "markdown",
   "metadata": {},
   "source": [
    "##### Formula for crossover"
   ]
  },
  {
   "cell_type": "code",
   "execution_count": 10,
   "metadata": {},
   "outputs": [],
   "source": [
    "def crossOver(p1, p2):\n",
    "    # crossover first 5 bit\n",
    "    for i in range (int(nIndividu/2)):\n",
    "        p1[i],p2[i] = p2[i],p1[i]"
   ]
  },
  {
   "cell_type": "markdown",
   "metadata": {},
   "source": [
    "##### Formula for genes mutation"
   ]
  },
  {
   "cell_type": "code",
   "execution_count": 11,
   "metadata": {},
   "outputs": [],
   "source": [
    "def mutasiGen(indiv):\n",
    "    index = rd.randint(0,kromosom)\n",
    "    if (indiv[index] == 1): \n",
    "        indiv[index] = 0\n",
    "    else: \n",
    "        indiv[index] = 1"
   ]
  },
  {
   "cell_type": "markdown",
   "metadata": {},
   "source": [
    "### Get all new populasi"
   ]
  },
  {
   "cell_type": "code",
   "execution_count": 12,
   "metadata": {},
   "outputs": [],
   "source": [
    "def getFinalResult(lastGen):\n",
    "    print(\"X1 : \", lastGen.xFenotype)\n",
    "    print(\"X2 : \", lastGen.yFenotype)"
   ]
  },
  {
   "cell_type": "code",
   "execution_count": 15,
   "metadata": {},
   "outputs": [
    {
     "name": "stdout",
     "output_type": "stream",
     "text": [
      "3.962769644353246\n"
     ]
    }
   ],
   "source": [
    "print(rd.uniform(fitnessPop[0][0], fitnessPop[nIndividu-1][0]))"
   ]
  },
  {
   "cell_type": "code",
   "execution_count": 16,
   "metadata": {
    "scrolled": true
   },
   "outputs": [
    {
     "name": "stdout",
     "output_type": "stream",
     "text": [
      " X :  0.023622047244094446 Y :  0.11023622047244075\n",
      "[-23.53935114521296, [0, 0, 0, 0, 0, 0, 1, 1, 1, 0, 0, 0, 0, 1]]\n",
      " X :  -2.1023622047244093 Y :  -0.6456692913385826\n",
      "[0.17174499019112058, [1, 1, 0, 0, 1, 0, 0, 1, 1, 0, 1, 0, 1, 0]]\n",
      " X :  1.2992125984251963 Y :  1.6850393700787403\n",
      "[0.03928976448178456, [1, 1, 0, 1, 1, 0, 1, 1, 0, 1, 0, 1, 1, 1]]\n",
      " X :  0.9212598425196847 Y :  0.29921259842519676\n",
      "[0.49109117649488054, [1, 1, 0, 0, 1, 0, 1, 1, 0, 0, 1, 0, 0, 1]]\n",
      " X :  -1.110236220472441 Y :  -0.015748031496062964\n",
      "[0.4199394437913741, [0, 0, 0, 1, 0, 1, 0, 1, 1, 1, 1, 1, 1, 0]]\n",
      " X :  0.2125984251968509 Y :  -0.6141732283464567\n",
      "[-1.1197852373281179, [0, 0, 1, 0, 0, 0, 1, 0, 0, 1, 1, 0, 1, 0]]\n",
      " X :  0.6850393700787403 Y :  0.7086614173228347\n",
      "[1.0692019415389786, [0, 1, 1, 1, 0, 0, 1, 0, 1, 1, 0, 1, 0, 1]]\n",
      " X :  -1.8661417322834646 Y :  -0.8346456692913387\n",
      "[0.3074206482134619, [0, 0, 0, 1, 1, 0, 0, 1, 0, 1, 0, 0, 1, 0]]\n",
      " X :  -1.2519685039370079 Y :  -1.5590551181102361\n",
      "[0.05477569266832887, [1, 0, 1, 0, 0, 1, 0, 0, 1, 1, 1, 0, 0, 0]]\n",
      " X :  0.7322834645669292 Y :  -0.11023622047244097\n",
      "[0.682848476677673, [1, 1, 1, 1, 0, 0, 1, 0, 0, 1, 1, 1, 1, 0]]\n",
      "=================================================================================================\n",
      " Keturunan ke  0\n",
      "[-23.53935114521296, [0, 0, 0, 0, 0, 0, 1, 1, 1, 0, 0, 0, 0, 1]]\n",
      "[-1.1197852373281179, [0, 0, 1, 0, 0, 0, 1, 0, 0, 1, 1, 0, 1, 0]]\n",
      "[0.03928976448178456, [1, 1, 0, 1, 1, 0, 1, 1, 0, 1, 0, 1, 1, 1]]\n",
      "[0.05477569266832887, [1, 0, 1, 0, 0, 1, 0, 0, 1, 1, 1, 0, 0, 0]]\n",
      "[0.17174499019112058, [1, 1, 0, 0, 1, 0, 0, 1, 1, 0, 1, 0, 1, 0]]\n",
      "[0.3074206482134619, [0, 0, 0, 1, 1, 0, 0, 1, 0, 1, 0, 0, 1, 0]]\n",
      "[0.4199394437913741, [0, 0, 0, 1, 0, 1, 0, 1, 1, 1, 1, 1, 1, 0]]\n",
      "[0.49109117649488054, [1, 1, 0, 0, 1, 0, 1, 1, 0, 0, 1, 0, 0, 1]]\n",
      "[0.682848476677673, [1, 1, 1, 1, 0, 0, 1, 0, 0, 1, 1, 1, 1, 0]]\n",
      "[1.0692019415389786, [0, 1, 1, 1, 0, 0, 1, 0, 1, 1, 0, 1, 0, 1]]\n",
      "\n",
      " Pembuatan generasi ke  0\n",
      "-23.53935114521296      1.0692019415389786\n",
      "RANGE  -22.046424086742682     -13.704612160083633\n",
      "[0, 1, 1, 1, 0, 0, 1, 0, 1, 1, 0, 1, 0, 1]\n",
      "[0, 1, 1, 1, 0, 0, 1, 0, 1, 1, 0, 1, 0, 1]\n",
      "\n",
      "PARENT :  [0, 1, 1, 1, 0, 0, 1, 0, 1, 1, 0, 1, 0, 1]  &  [0, 1, 1, 1, 0, 0, 1, 0, 1, 1, 0, 1, 0, 1]\n",
      "\n",
      "New Individu :  [0, 1, 1, 1, 0, 0, 1, 0, 1, 1, 0, 1, 0, 1]  &  [0, 1, 1, 1, 0, 0, 1, 0, 1, 1, 0, 1, 0, 1]\n",
      "\n",
      "Result of mutation :  [0, 1, 1, 1, 0, 0, 1, 0, 1, 1, 0, 1, 0, 1]  &  [0, 1, 1, 1, 0, 0, 1, 0, 1, 1, 0, 1, 0, 1]\n",
      "\n",
      " X :  0.6850393700787403 Y :  0.7086614173228347\n",
      "[1.0692019415389786, [0, 1, 1, 1, 0, 0, 1, 0, 1, 1, 0, 1, 0, 1]]\n",
      " X :  0.6850393700787403 Y :  0.7086614173228347\n",
      "[1.0692019415389786, [0, 1, 1, 1, 0, 0, 1, 0, 1, 1, 0, 1, 0, 1]]\n",
      "\n",
      " Pembuatan generasi ke  1\n",
      "-23.53935114521296      1.0692019415389786\n",
      "RANGE  -22.606791017633874     -3.985024866144663\n",
      "[0, 1, 1, 1, 0, 0, 1, 0, 1, 1, 0, 1, 0, 1]\n",
      "[0, 1, 1, 1, 0, 0, 1, 0, 1, 1, 0, 1, 0, 1]\n",
      "\n",
      "PARENT :  [0, 1, 1, 1, 0, 0, 1, 0, 1, 1, 0, 1, 0, 1]  &  [0, 1, 1, 1, 0, 0, 1, 0, 1, 1, 0, 1, 0, 1]\n",
      "\n",
      "New Individu :  [0, 1, 1, 1, 0, 0, 1, 0, 1, 1, 0, 1, 0, 1]  &  [0, 1, 1, 1, 0, 0, 1, 0, 1, 1, 0, 1, 0, 1]\n",
      "\n",
      "Result of mutation :  [0, 1, 1, 1, 0, 0, 1, 0, 1, 1, 0, 1, 0, 1]  &  [0, 1, 1, 1, 0, 0, 1, 0, 1, 1, 0, 1, 0, 1]\n",
      "\n",
      " X :  0.6850393700787403 Y :  0.7086614173228347\n",
      "[1.0692019415389786, [0, 1, 1, 1, 0, 0, 1, 0, 1, 1, 0, 1, 0, 1]]\n",
      " X :  0.6850393700787403 Y :  0.7086614173228347\n",
      "[1.0692019415389786, [0, 1, 1, 1, 0, 0, 1, 0, 1, 1, 0, 1, 0, 1]]\n",
      "\n",
      " Pembuatan generasi ke  2\n",
      "-23.53935114521296      1.0692019415389786\n",
      "RANGE  -3.899865687418128     -11.267264268965825\n",
      "[0, 1, 1, 1, 0, 0, 1, 0, 1, 1, 0, 1, 0, 1]\n",
      "[0, 1, 1, 1, 0, 0, 1, 0, 1, 1, 0, 1, 0, 1]\n",
      "\n",
      "PARENT :  [0, 1, 1, 1, 0, 0, 1, 0, 1, 1, 0, 1, 0, 1]  &  [0, 1, 1, 1, 0, 0, 1, 0, 1, 1, 0, 1, 0, 1]\n",
      "\n",
      "New Individu :  [0, 1, 1, 1, 0, 0, 1, 0, 1, 1, 0, 1, 0, 1]  &  [0, 1, 1, 1, 0, 0, 1, 0, 1, 1, 0, 1, 0, 1]\n",
      "NEW 1 MUTATED\n",
      "\n",
      "Result of mutation :  [0, 1, 1, 1, 0, 0, 0, 0, 1, 1, 0, 1, 0, 1]  &  [0, 1, 1, 1, 0, 0, 1, 0, 1, 1, 0, 1, 0, 1]\n",
      "\n",
      " X :  -2.3385826771653546 Y :  0.7086614173228347\n",
      "[0.09145736078051675, [0, 1, 1, 1, 0, 0, 0, 0, 1, 1, 0, 1, 0, 1]]\n",
      " X :  0.6850393700787403 Y :  0.7086614173228347\n",
      "[1.0692019415389786, [0, 1, 1, 1, 0, 0, 1, 0, 1, 1, 0, 1, 0, 1]]\n",
      "\n",
      " Pembuatan generasi ke  3\n",
      "-23.53935114521296      1.0692019415389786\n",
      "RANGE  -23.474956121454674     -5.7496248102964\n",
      "[0, 1, 1, 1, 0, 0, 1, 0, 1, 1, 0, 1, 0, 1]\n",
      "[0, 1, 1, 1, 0, 0, 1, 0, 1, 1, 0, 1, 0, 1]\n",
      "\n",
      "PARENT :  [0, 1, 1, 1, 0, 0, 1, 0, 1, 1, 0, 1, 0, 1]  &  [0, 1, 1, 1, 0, 0, 1, 0, 1, 1, 0, 1, 0, 1]\n",
      "\n",
      "New Individu :  [0, 1, 1, 1, 0, 0, 1, 0, 1, 1, 0, 1, 0, 1]  &  [0, 1, 1, 1, 0, 0, 1, 0, 1, 1, 0, 1, 0, 1]\n",
      "\n",
      "Result of mutation :  [0, 1, 1, 1, 0, 0, 1, 0, 1, 1, 0, 1, 0, 1]  &  [0, 1, 1, 1, 0, 0, 1, 0, 1, 1, 0, 1, 0, 1]\n",
      "\n",
      " X :  0.6850393700787403 Y :  0.7086614173228347\n",
      "[1.0692019415389786, [0, 1, 1, 1, 0, 0, 1, 0, 1, 1, 0, 1, 0, 1]]\n",
      " X :  0.6850393700787403 Y :  0.7086614173228347\n",
      "[1.0692019415389786, [0, 1, 1, 1, 0, 0, 1, 0, 1, 1, 0, 1, 0, 1]]\n",
      "\n",
      " Pembuatan generasi ke  4\n",
      "-23.53935114521296      1.0692019415389786\n",
      "RANGE  -10.774178671249537     -21.508993861671787\n",
      "[0, 1, 1, 1, 0, 0, 1, 0, 1, 1, 0, 1, 0, 1]\n",
      "[0, 1, 1, 1, 0, 0, 1, 0, 1, 1, 0, 1, 0, 1]\n",
      "\n",
      "PARENT :  [0, 1, 1, 1, 0, 0, 1, 0, 1, 1, 0, 1, 0, 1]  &  [0, 1, 1, 1, 0, 0, 1, 0, 1, 1, 0, 1, 0, 1]\n",
      "\n",
      "New Individu :  [0, 1, 1, 1, 0, 0, 1, 0, 1, 1, 0, 1, 0, 1]  &  [0, 1, 1, 1, 0, 0, 1, 0, 1, 1, 0, 1, 0, 1]\n",
      "\n",
      "Result of mutation :  [0, 1, 1, 1, 0, 0, 1, 0, 1, 1, 0, 1, 0, 1]  &  [0, 1, 1, 1, 0, 0, 1, 0, 1, 1, 0, 1, 0, 1]\n",
      "\n",
      " X :  0.6850393700787403 Y :  0.7086614173228347\n",
      "[1.0692019415389786, [0, 1, 1, 1, 0, 0, 1, 0, 1, 1, 0, 1, 0, 1]]\n",
      " X :  0.6850393700787403 Y :  0.7086614173228347\n",
      "[1.0692019415389786, [0, 1, 1, 1, 0, 0, 1, 0, 1, 1, 0, 1, 0, 1]]\n",
      "\n",
      "New generation and their own fitness\n",
      "[0.09145736078051675, [0, 1, 1, 1, 0, 0, 0, 0, 1, 1, 0, 1, 0, 1]]\n",
      "[1.0692019415389786, [0, 1, 1, 1, 0, 0, 1, 0, 1, 1, 0, 1, 0, 1]]\n",
      "[1.0692019415389786, [0, 1, 1, 1, 0, 0, 1, 0, 1, 1, 0, 1, 0, 1]]\n",
      "[1.0692019415389786, [0, 1, 1, 1, 0, 0, 1, 0, 1, 1, 0, 1, 0, 1]]\n",
      "[1.0692019415389786, [0, 1, 1, 1, 0, 0, 1, 0, 1, 1, 0, 1, 0, 1]]\n",
      "[1.0692019415389786, [0, 1, 1, 1, 0, 0, 1, 0, 1, 1, 0, 1, 0, 1]]\n",
      "[1.0692019415389786, [0, 1, 1, 1, 0, 0, 1, 0, 1, 1, 0, 1, 0, 1]]\n",
      "[1.0692019415389786, [0, 1, 1, 1, 0, 0, 1, 0, 1, 1, 0, 1, 0, 1]]\n",
      "[1.0692019415389786, [0, 1, 1, 1, 0, 0, 1, 0, 1, 1, 0, 1, 0, 1]]\n",
      "[1.0692019415389786, [0, 1, 1, 1, 0, 0, 1, 0, 1, 1, 0, 1, 0, 1]]\n",
      "\n",
      "New parents and their own fitness\n",
      "[0.09145736078051675, [0, 1, 1, 1, 0, 0, 0, 0, 1, 1, 0, 1, 0, 1]]\n",
      "[1.0692019415389786, [0, 1, 1, 1, 0, 0, 1, 0, 1, 1, 0, 1, 0, 1]]\n",
      "[1.0692019415389786, [0, 1, 1, 1, 0, 0, 1, 0, 1, 1, 0, 1, 0, 1]]\n",
      "[1.0692019415389786, [0, 1, 1, 1, 0, 0, 1, 0, 1, 1, 0, 1, 0, 1]]\n",
      "[1.0692019415389786, [0, 1, 1, 1, 0, 0, 1, 0, 1, 1, 0, 1, 0, 1]]\n",
      "[1.0692019415389786, [0, 1, 1, 1, 0, 0, 1, 0, 1, 1, 0, 1, 0, 1]]\n",
      "[1.0692019415389786, [0, 1, 1, 1, 0, 0, 1, 0, 1, 1, 0, 1, 0, 1]]\n",
      "[1.0692019415389786, [0, 1, 1, 1, 0, 0, 1, 0, 1, 1, 0, 1, 0, 1]]\n",
      "[1.0692019415389786, [0, 1, 1, 1, 0, 0, 1, 0, 1, 1, 0, 1, 0, 1]]\n",
      "[1.0692019415389786, [0, 1, 1, 1, 0, 0, 1, 0, 1, 1, 0, 1, 0, 1]]\n",
      "\n",
      "=================================================================================================\n",
      " Keturunan ke  1\n",
      "[0.09145736078051675, [0, 1, 1, 1, 0, 0, 0, 0, 1, 1, 0, 1, 0, 1]]\n",
      "[1.0692019415389786, [0, 1, 1, 1, 0, 0, 1, 0, 1, 1, 0, 1, 0, 1]]\n",
      "[1.0692019415389786, [0, 1, 1, 1, 0, 0, 1, 0, 1, 1, 0, 1, 0, 1]]\n",
      "[1.0692019415389786, [0, 1, 1, 1, 0, 0, 1, 0, 1, 1, 0, 1, 0, 1]]\n",
      "[1.0692019415389786, [0, 1, 1, 1, 0, 0, 1, 0, 1, 1, 0, 1, 0, 1]]\n",
      "[1.0692019415389786, [0, 1, 1, 1, 0, 0, 1, 0, 1, 1, 0, 1, 0, 1]]\n",
      "[1.0692019415389786, [0, 1, 1, 1, 0, 0, 1, 0, 1, 1, 0, 1, 0, 1]]\n",
      "[1.0692019415389786, [0, 1, 1, 1, 0, 0, 1, 0, 1, 1, 0, 1, 0, 1]]\n",
      "[1.0692019415389786, [0, 1, 1, 1, 0, 0, 1, 0, 1, 1, 0, 1, 0, 1]]\n",
      "[1.0692019415389786, [0, 1, 1, 1, 0, 0, 1, 0, 1, 1, 0, 1, 0, 1]]\n",
      "\n",
      " Pembuatan generasi ke  0\n",
      "0.09145736078051675      1.0692019415389786\n",
      "RANGE  1.0395733573208834     0.8924001128973496\n"
     ]
    },
    {
     "ename": "AttributeError",
     "evalue": "'int' object has no attribute 'copy'",
     "output_type": "error",
     "traceback": [
      "\u001b[1;31m---------------------------------------------------------------------------\u001b[0m",
      "\u001b[1;31mAttributeError\u001b[0m                            Traceback (most recent call last)",
      "\u001b[1;32m<ipython-input-16-9d96632de2da>\u001b[0m in \u001b[0;36m<module>\u001b[1;34m\u001b[0m\n\u001b[0;32m     35\u001b[0m \u001b[1;33m\u001b[0m\u001b[0m\n\u001b[0;32m     36\u001b[0m         \u001b[1;31m# Get the parent from the random probability\u001b[0m\u001b[1;33m\u001b[0m\u001b[1;33m\u001b[0m\u001b[1;33m\u001b[0m\u001b[0m\n\u001b[1;32m---> 37\u001b[1;33m         \u001b[0mprint\u001b[0m\u001b[1;33m(\u001b[0m\u001b[0mchooseParent\u001b[0m\u001b[1;33m(\u001b[0m\u001b[0mchoose1\u001b[0m\u001b[1;33m,\u001b[0m \u001b[0mprobabilitasFitness\u001b[0m\u001b[1;33m,\u001b[0m \u001b[0mfitnessPop\u001b[0m\u001b[1;33m)\u001b[0m\u001b[1;33m.\u001b[0m\u001b[0mcopy\u001b[0m\u001b[1;33m(\u001b[0m\u001b[1;33m)\u001b[0m\u001b[1;33m)\u001b[0m\u001b[1;33m\u001b[0m\u001b[1;33m\u001b[0m\u001b[0m\n\u001b[0m\u001b[0;32m     38\u001b[0m         \u001b[0mparent1\u001b[0m \u001b[1;33m=\u001b[0m \u001b[0mchooseParent\u001b[0m\u001b[1;33m(\u001b[0m\u001b[0mchoose1\u001b[0m\u001b[1;33m,\u001b[0m \u001b[0mprobabilitasFitness\u001b[0m\u001b[1;33m,\u001b[0m \u001b[0mfitnessPop\u001b[0m\u001b[1;33m)\u001b[0m\u001b[1;33m.\u001b[0m\u001b[0mcopy\u001b[0m\u001b[1;33m(\u001b[0m\u001b[1;33m)\u001b[0m\u001b[1;33m\u001b[0m\u001b[1;33m\u001b[0m\u001b[0m\n\u001b[0;32m     39\u001b[0m         \u001b[0mprint\u001b[0m\u001b[1;33m(\u001b[0m\u001b[0mchooseParent\u001b[0m\u001b[1;33m(\u001b[0m\u001b[0mchoose2\u001b[0m\u001b[1;33m,\u001b[0m \u001b[0mprobabilitasFitness\u001b[0m\u001b[1;33m,\u001b[0m \u001b[0mfitnessPop\u001b[0m\u001b[1;33m)\u001b[0m\u001b[1;33m.\u001b[0m\u001b[0mcopy\u001b[0m\u001b[1;33m(\u001b[0m\u001b[1;33m)\u001b[0m\u001b[1;33m)\u001b[0m\u001b[1;33m\u001b[0m\u001b[1;33m\u001b[0m\u001b[0m\n",
      "\u001b[1;31mAttributeError\u001b[0m: 'int' object has no attribute 'copy'"
     ]
    }
   ],
   "source": [
    "# Pingin liat generasi ke 7\n",
    "thePopulation = Population()\n",
    "\n",
    "# Population has 10 individu\n",
    "for i in range (nIndividu):\n",
    "    new = Individu()\n",
    "    thePopulation.insertIndividu(new)\n",
    "# Fitness every individu\n",
    "fitnessPop = getTheFitness(thePopulation) \n",
    "fitnessPop.sort()\n",
    "\n",
    "keturunan = 7\n",
    "for i in range(keturunan):\n",
    "    print(\"=================================================================================================\")\n",
    "    print(\" Keturunan ke \",i)\n",
    "    print(*fitnessPop, sep = \"\\n\")\n",
    "    # List for the new Generation with the fitness\n",
    "    newGeneration = []\n",
    "    \n",
    "    for x in range (5):\n",
    "        print()\n",
    "        print(\" Pembuatan generasi ke \",x)\n",
    "        \n",
    "        # Give probabilitas for every individu to be parents\n",
    "        probabilitasFitness =  getProbabilitasFitness(fitnessPop)\n",
    "        print(fitnessPop[0][0], \"    \" , fitnessPop[nIndividu-1][0])\n",
    "        \n",
    "        # Generate number for choosing the parents\n",
    "        choose1 = rd.uniform(fitnessPop[0][0], fitnessPop[nIndividu-1][0])\n",
    "        choose2 = rd.uniform(fitnessPop[0][0], fitnessPop[nIndividu-1][0])\n",
    "        while (choose1 == choose2):\n",
    "            choose1 = rd.uniform(fitnessPop[0][0], fitnessPop[nIndividu-1][0])\n",
    "            choose2 = rd.uniform(fitnessPop[0][0], fitnessPop[nIndividu-1][0])\n",
    "        print(\"RANGE \", choose1, \"   \", choose2)\n",
    "        \n",
    "        # Get the parent from the random probability\n",
    "        print(chooseParent(choose1, probabilitasFitness, fitnessPop).copy())\n",
    "        parent1 = chooseParent(choose1, probabilitasFitness, fitnessPop).copy()\n",
    "        print(chooseParent(choose2, probabilitasFitness, fitnessPop).copy())\n",
    "        parent2 = chooseParent(choose2, probabilitasFitness, fitnessPop).copy()\n",
    "        print()\n",
    "        print(\"PARENT : \", parent1, \" & \",parent2)\n",
    "        \n",
    "        # Crossover the parents to get 2 new individu\n",
    "        # Here, parent1 and parent 2 is a new individu\n",
    "        crossOver(parent1, parent2)\n",
    "        print()\n",
    "        print(\"New Individu : \", parent1, \" & \",parent2)\n",
    "        \n",
    "        # Generate number to decide is the new individu is mutated or not\n",
    "        isMutation1 = rd.uniform(0,1)\n",
    "        isMutation2 = rd.uniform(0,1)\n",
    "        \n",
    "        # Check for the mutation\n",
    "        # 0.1 is chance some gene is mutated\n",
    "        if (isMutation1 <= 0.1):\n",
    "            mutasiGen(parent1)\n",
    "            print(\"NEW 1 MUTATED\")\n",
    "        if (isMutation2 <= 0.1):\n",
    "            mutasiGen(parent2)\n",
    "            print(\"NEW 2 MUTATED\")\n",
    "        print()\n",
    "        print(\"Result of mutation : \", parent1, \" & \",parent2)\n",
    "        print()\n",
    "        \n",
    "        # Template to get the fitness of new Generation\n",
    "        anak1 = Individu()\n",
    "        anak1.genes = parent1\n",
    "        anak2 = Individu()\n",
    "        anak2.genes = parent2\n",
    "        \n",
    "        neww = Population()\n",
    "        neww.insertIndividu(anak1)\n",
    "        neww.insertIndividu(anak2)\n",
    "        \n",
    "        # Fitness for the new individu\n",
    "        newFitness = getTheFitness(neww)\n",
    "\n",
    "        # Insert to list newGeneration\n",
    "        newGeneration.append(newFitness[0])\n",
    "        newGeneration.append(newFitness[1])\n",
    "        \n",
    "    print()\n",
    "    print(\"New generation and their own fitness\")\n",
    "    newGeneration.sort()\n",
    "    print(*newGeneration, sep = \"\\n\")\n",
    "    \n",
    "    # Replace the old parent with the new generation\n",
    "    for y in range (10):\n",
    "        if fitnessPop[y][0] <= newGeneration[y][0]:\n",
    "            fitnessPop[y] = newGeneration[y]\n",
    "    print()\n",
    "    print(\"New parents and their own fitness\")\n",
    "    print(*fitnessPop, sep = \"\\n\")\n",
    "    print() \n",
    "print(\"Hasil X1 dan X2\")\n",
    "finalIndividu = Individu()\n",
    "finalIndividu.setGene(fitnessPop[nIndividu-1][1])\n",
    "finalIndividu.decodeKromosom()\n",
    "getFinalResult(finalIndividu)\n",
    "print(\"Nilai Fitness : \", fitnessPop[nIndividu-1][0])"
   ]
  },
  {
   "cell_type": "code",
   "execution_count": null,
   "metadata": {},
   "outputs": [],
   "source": []
  }
 ],
 "metadata": {
  "kernelspec": {
   "display_name": "Python 3",
   "language": "python",
   "name": "python3"
  },
  "language_info": {
   "codemirror_mode": {
    "name": "ipython",
    "version": 3
   },
   "file_extension": ".py",
   "mimetype": "text/x-python",
   "name": "python",
   "nbconvert_exporter": "python",
   "pygments_lexer": "ipython3",
   "version": "3.7.1"
  }
 },
 "nbformat": 4,
 "nbformat_minor": 2
}
