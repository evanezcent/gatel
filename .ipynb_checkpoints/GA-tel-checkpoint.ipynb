{
 "cells": [
  {
   "cell_type": "code",
   "execution_count": 1,
   "metadata": {},
   "outputs": [],
   "source": [
    "import math\n",
    "import numpy as np\n",
    "import pandas as pd\n",
    "import random as rd"
   ]
  },
  {
   "cell_type": "code",
   "execution_count": 2,
   "metadata": {},
   "outputs": [],
   "source": [
    "x1 = rd.randrange(-4, 4)\n",
    "x2 = rd.randrange(-3, 3)"
   ]
  },
  {
   "cell_type": "markdown",
   "metadata": {},
   "source": [
    "##### Formula's initialitation"
   ]
  },
  {
   "cell_type": "code",
   "execution_count": 18,
   "metadata": {},
   "outputs": [
    {
     "name": "stdout",
     "output_type": "stream",
     "text": [
      "0.003358710255261979\n"
     ]
    }
   ],
   "source": [
    "def rumus(x1, x2):\n",
    "    hasil = (4 - (2.1 * (x1**2)) + ((x1**4)/3)) * (x1**2) + (x1*x2) + (-4 + (4*(x2**2))) * (x2**2)\n",
    "    return 1/hasil\n",
    "\n",
    "print(rumus(2, 3))"
   ]
  },
  {
   "cell_type": "markdown",
   "metadata": {},
   "source": [
    "##### Formula to decode the kromosom "
   ]
  },
  {
   "cell_type": "code",
   "execution_count": 4,
   "metadata": {},
   "outputs": [],
   "source": [
    "def decodeRumus(x):\n",
    "    if (x1 <= x2):\n",
    "        xmin = x1\n",
    "        xmax = x2\n",
    "    else:\n",
    "        xmin = x2\n",
    "        xmax =x1\n",
    "    # because the gene is 14 bit, half of them is 7 bit\n",
    "    # then decimal of 7 bit is 127\n",
    "    return (xmin + ((x - 0) / (127 - 0)) * (xmax - xmin))"
   ]
  },
  {
   "cell_type": "markdown",
   "metadata": {},
   "source": [
    "##### Individu"
   ]
  },
  {
   "cell_type": "code",
   "execution_count": 28,
   "metadata": {},
   "outputs": [
    {
     "name": "stdout",
     "output_type": "stream",
     "text": [
      "[0, 0, 1, 0, 1, 0, 0, 0, 1, 1, 1, 0, 0, 1] ---\n",
      "0 I\n",
      "7 IDX\n",
      "1 I\n",
      "8 IDX\n",
      "2 I\n",
      "9 IDX\n",
      "3 I\n",
      "10 IDX\n",
      "4 I\n",
      "11 IDX\n",
      "5 I\n",
      "12 IDX\n",
      "6 I\n",
      "13 IDX\n",
      "-2.968503937007874 X Fenotip\n",
      "-2.937007874015748 Y Fenotip\n"
     ]
    }
   ],
   "source": [
    "\n",
    "class Individu():\n",
    "    def __init__(self):\n",
    "        # length of\n",
    "        self.genes = []\n",
    "        self.xFenotype = 0\n",
    "        self.yFenotype = 0\n",
    "        # Kromosom's initialitation with 14 dna\n",
    "        for i in range (14):\n",
    "            self.genes.append(rd.randint(0,1))\n",
    "    \n",
    "    # get Kromosom\n",
    "    def getGene(self):\n",
    "        return self.genes\n",
    "    \n",
    "    # Decode kromosom\n",
    "    def decodeKromosom(self):\n",
    "        i = 0\n",
    "        gen = self.genes\n",
    "        idx = 7\n",
    "        xGenotype = 0 \n",
    "        yGenotype = 0\n",
    "        \n",
    "        \n",
    "        while i < 7 :\n",
    "            xGenotype = xGenotype + gen[i]\n",
    "            yGenotype = yGenotype + gen[idx]\n",
    "            print(i, \"I\")\n",
    "            print(idx, \"IDX\")\n",
    "            i += 1\n",
    "            idx += 1\n",
    "            \n",
    "        self.xFenotype = decodeRumus(xGenotype)\n",
    "        self.yFenotype = decodeRumus(yGenotype)\n",
    "\n",
    "\n",
    "\n",
    "# DEBUGGING\n",
    "\n",
    "newInd = Individu()\n",
    "print(newInd.getGene(), \"---\")\n",
    "newInd.decodeKromosom()\n",
    "print(newInd.xFenotype, \"X Fenotip\")\n",
    "print(newInd.yFenotype, \"Y Fenotip\")"
   ]
  },
  {
   "cell_type": "markdown",
   "metadata": {},
   "source": [
    "###### Population"
   ]
  },
  {
   "cell_type": "code",
   "execution_count": 31,
   "metadata": {},
   "outputs": [
    {
     "name": "stdout",
     "output_type": "stream",
     "text": [
      "0 ===============\n",
      "0 I\n",
      "7 IDX\n",
      "1 I\n",
      "8 IDX\n",
      "2 I\n",
      "9 IDX\n",
      "3 I\n",
      "10 IDX\n",
      "4 I\n",
      "11 IDX\n",
      "5 I\n",
      "12 IDX\n",
      "6 I\n",
      "13 IDX\n",
      "1 ===============\n",
      "0 I\n",
      "7 IDX\n",
      "1 I\n",
      "8 IDX\n",
      "2 I\n",
      "9 IDX\n",
      "3 I\n",
      "10 IDX\n",
      "4 I\n",
      "11 IDX\n",
      "5 I\n",
      "12 IDX\n",
      "6 I\n",
      "13 IDX\n",
      "2 ===============\n",
      "0 I\n",
      "7 IDX\n",
      "1 I\n",
      "8 IDX\n",
      "2 I\n",
      "9 IDX\n",
      "3 I\n",
      "10 IDX\n",
      "4 I\n",
      "11 IDX\n",
      "5 I\n",
      "12 IDX\n",
      "6 I\n",
      "13 IDX\n",
      "3 ===============\n",
      "0 I\n",
      "7 IDX\n",
      "1 I\n",
      "8 IDX\n",
      "2 I\n",
      "9 IDX\n",
      "3 I\n",
      "10 IDX\n",
      "4 I\n",
      "11 IDX\n",
      "5 I\n",
      "12 IDX\n",
      "6 I\n",
      "13 IDX\n",
      "4 ===============\n",
      "0 I\n",
      "7 IDX\n",
      "1 I\n",
      "8 IDX\n",
      "2 I\n",
      "9 IDX\n",
      "3 I\n",
      "10 IDX\n",
      "4 I\n",
      "11 IDX\n",
      "5 I\n",
      "12 IDX\n",
      "6 I\n",
      "13 IDX\n",
      "5 ===============\n",
      "0 I\n",
      "7 IDX\n",
      "1 I\n",
      "8 IDX\n",
      "2 I\n",
      "9 IDX\n",
      "3 I\n",
      "10 IDX\n",
      "4 I\n",
      "11 IDX\n",
      "5 I\n",
      "12 IDX\n",
      "6 I\n",
      "13 IDX\n",
      "6 ===============\n",
      "0 I\n",
      "7 IDX\n",
      "1 I\n",
      "8 IDX\n",
      "2 I\n",
      "9 IDX\n",
      "3 I\n",
      "10 IDX\n",
      "4 I\n",
      "11 IDX\n",
      "5 I\n",
      "12 IDX\n",
      "6 I\n",
      "13 IDX\n",
      "7 ===============\n",
      "0 I\n",
      "7 IDX\n",
      "1 I\n",
      "8 IDX\n",
      "2 I\n",
      "9 IDX\n",
      "3 I\n",
      "10 IDX\n",
      "4 I\n",
      "11 IDX\n",
      "5 I\n",
      "12 IDX\n",
      "6 I\n",
      "13 IDX\n",
      "8 ===============\n",
      "0 I\n",
      "7 IDX\n",
      "1 I\n",
      "8 IDX\n",
      "2 I\n",
      "9 IDX\n",
      "3 I\n",
      "10 IDX\n",
      "4 I\n",
      "11 IDX\n",
      "5 I\n",
      "12 IDX\n",
      "6 I\n",
      "13 IDX\n",
      "9 ===============\n",
      "0 I\n",
      "7 IDX\n",
      "1 I\n",
      "8 IDX\n",
      "2 I\n",
      "9 IDX\n",
      "3 I\n",
      "10 IDX\n",
      "4 I\n",
      "11 IDX\n",
      "5 I\n",
      "12 IDX\n",
      "6 I\n",
      "13 IDX\n",
      "[-2.905511811023622, -2.905511811023622, -2.968503937007874, -2.952755905511811, -2.921259842519685, -2.937007874015748, -2.921259842519685, -2.937007874015748, -2.937007874015748, -2.905511811023622]\n",
      "[-2.952755905511811, -2.968503937007874, -2.952755905511811, -2.937007874015748, -2.921259842519685, -2.952755905511811, -2.952755905511811, -2.921259842519685, -2.905511811023622, -2.937007874015748]\n"
     ]
    }
   ],
   "source": [
    "class Population():\n",
    "    def __init__(self):\n",
    "        self.populationx = []\n",
    "        self.populationy = []\n",
    "        # Make a population with 10 individu\n",
    "        for i in range (10):\n",
    "            new = Individu()\n",
    "            print(i, \"===============\")\n",
    "            new.decodeKromosom()\n",
    "            self.populationx.append(new.xFenotype)\n",
    "            self.populationy.append(new.yFenotype)\n",
    "    \n",
    "newPop = Population()"
   ]
  },
  {
   "cell_type": "code",
   "execution_count": 34,
   "metadata": {},
   "outputs": [
    {
     "name": "stdout",
     "output_type": "stream",
     "text": [
      "== SORTED ==\n"
     ]
    },
    {
     "data": {
      "text/plain": [
       "[0.002643917858181514,\n",
       " 0.00270226179618337,\n",
       " 0.002712700899617293,\n",
       " 0.0027176504809671843,\n",
       " 0.002730913106805792,\n",
       " 0.00275919404336844,\n",
       " 0.0027937607900035914,\n",
       " 0.00280650658210272,\n",
       " 0.002824392266784855,\n",
       " 0.0028406633896820455]"
      ]
     },
     "execution_count": 34,
     "metadata": {},
     "output_type": "execute_result"
    }
   ],
   "source": [
    "fitness = []\n",
    "for i in range (10):\n",
    "    fitness.append(rumus(newPop.populationx[i], newPop.populationy[i]))\n",
    "fitness.sort()\n",
    "print(\"== SORTED ==\")\n",
    "fitness"
   ]
  }
 ],
 "metadata": {
  "kernelspec": {
   "display_name": "Python 3",
   "language": "python",
   "name": "python3"
  },
  "language_info": {
   "codemirror_mode": {
    "name": "ipython",
    "version": 3
   },
   "file_extension": ".py",
   "mimetype": "text/x-python",
   "name": "python",
   "nbconvert_exporter": "python",
   "pygments_lexer": "ipython3",
   "version": "3.7.1"
  }
 },
 "nbformat": 4,
 "nbformat_minor": 2
}
