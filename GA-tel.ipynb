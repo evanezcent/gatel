{
 "cells": [
  {
   "cell_type": "code",
   "execution_count": 2,
   "metadata": {},
   "outputs": [],
   "source": [
    "import math\n",
    "import numpy as np\n",
    "import pandas as pd\n",
    "import random as rd"
   ]
  },
  {
   "cell_type": "code",
   "execution_count": 3,
   "metadata": {},
   "outputs": [
    {
     "name": "stdout",
     "output_type": "stream",
     "text": [
      "-1 0\n"
     ]
    }
   ],
   "source": [
    "x1 = rd.randrange(-4, 4)\n",
    "x2 = rd.randrange(-3, 3)\n",
    "\n",
    "print(x1, x2)"
   ]
  },
  {
   "cell_type": "markdown",
   "metadata": {},
   "source": [
    "##### Formula's initialitation"
   ]
  },
  {
   "cell_type": "code",
   "execution_count": 10,
   "metadata": {},
   "outputs": [
    {
     "name": "stdout",
     "output_type": "stream",
     "text": [
      "0.42413447706055746\n"
     ]
    }
   ],
   "source": [
    "def rumus(x1, x2):\n",
    "    hasil = (4 - (2.1 * (x1**2)) + ((x1**4)/3)) * (x1**2) + (x1*x2) + (-4 + (4*(x2**2))) * (x2**2)\n",
    "    return 2**-hasil\n",
    "\n",
    "print(rumus(-0.7, -0.4))"
   ]
  },
  {
   "cell_type": "markdown",
   "metadata": {},
   "source": [
    "##### Formula to decode the kromosom "
   ]
  },
  {
   "cell_type": "code",
   "execution_count": 6,
   "metadata": {},
   "outputs": [],
   "source": [
    "def decodeRumus(x):\n",
    "    if (x1 <= x2):\n",
    "        xmin = x1\n",
    "        xmax = x2\n",
    "    else:\n",
    "        xmin = x2\n",
    "        xmax =x1\n",
    "    # because the gene is 14 bit, half of them is 7 bit\n",
    "    # then decimal of 7 bit is 127\n",
    "    return (xmin + ((x - 0) / (127 - 0)) * (xmax - xmin))"
   ]
  },
  {
   "cell_type": "markdown",
   "metadata": {},
   "source": [
    "##### Individu"
   ]
  },
  {
   "cell_type": "code",
   "execution_count": 7,
   "metadata": {},
   "outputs": [
    {
     "name": "stdout",
     "output_type": "stream",
     "text": [
      "[0, 1, 0, 1, 1, 1, 0, 0, 1, 0, 0, 1, 0, 1] ---\n",
      "GEN I 0\n",
      "GEN IDX  0\n",
      "GEN I 1\n",
      "X GEN  2\n",
      "GEN IDX  1\n",
      "Y GEN  2\n",
      "GEN I 0\n",
      "GEN IDX  0\n",
      "GEN I 1\n",
      "X GEN  10\n",
      "GEN IDX  0\n",
      "GEN I 1\n",
      "X GEN  26\n",
      "GEN IDX  1\n",
      "Y GEN  18\n",
      "GEN I 1\n",
      "X GEN  58\n",
      "GEN IDX  0\n",
      "GEN I 0\n",
      "GEN IDX  1\n",
      "Y GEN  82\n",
      "-0.5433070866141732 X Fenotip\n",
      "-0.35433070866141736 Y Fenotip\n"
     ]
    }
   ],
   "source": [
    "\n",
    "class Individu():\n",
    "    def __init__(self):\n",
    "        # length of\n",
    "        self.genes = []\n",
    "        self.xFenotype = 0\n",
    "        self.yFenotype = 0\n",
    "        # Kromosom's initialitation with 14 dna\n",
    "        for i in range (14):\n",
    "            self.genes.append(rd.randint(0,1))\n",
    "    \n",
    "    # get Kromosom\n",
    "    def getGene(self):\n",
    "        return self.genes\n",
    "    \n",
    "    # Decode kromosom\n",
    "    def decodeKromosom(self):\n",
    "        i = 0\n",
    "        gen = self.genes\n",
    "        idx = 7\n",
    "        xGenotype = 0 \n",
    "        yGenotype = 0\n",
    "        \n",
    "        \n",
    "        while i < 7 :\n",
    "            print(\"GEN I\",gen[i])\n",
    "            if gen[i] == 1:\n",
    "                xGenotype = xGenotype + (2**i)\n",
    "                print(\"X GEN \",xGenotype)\n",
    "            print(\"GEN IDX \",gen[idx])\n",
    "            if gen[idx] == 1:\n",
    "                yGenotype = yGenotype + (2**i)\n",
    "                print(\"Y GEN \",yGenotype)\n",
    "            i += 1\n",
    "            idx += 1\n",
    "            \n",
    "        self.xFenotype = decodeRumus(xGenotype)\n",
    "        self.yFenotype = decodeRumus(yGenotype)\n",
    "\n",
    "\n",
    "\n",
    "# DEBUGGING\n",
    "\n",
    "newInd = Individu()\n",
    "print(newInd.getGene(), \"---\")\n",
    "newInd.decodeKromosom()\n",
    "print(newInd.xFenotype, \"X Fenotip\")\n",
    "print(newInd.yFenotype, \"Y Fenotip\")"
   ]
  },
  {
   "cell_type": "markdown",
   "metadata": {},
   "source": [
    "###### Population"
   ]
  },
  {
   "cell_type": "code",
   "execution_count": 8,
   "metadata": {},
   "outputs": [
    {
     "name": "stdout",
     "output_type": "stream",
     "text": [
      "0\n",
      "GEN I 0\n",
      "GEN IDX  0\n",
      "GEN I 1\n",
      "X GEN  2\n",
      "GEN IDX  1\n",
      "Y GEN  2\n",
      "GEN I 0\n",
      "GEN IDX  1\n",
      "Y GEN  6\n",
      "GEN I 1\n",
      "X GEN  10\n",
      "GEN IDX  0\n",
      "GEN I 0\n",
      "GEN IDX  0\n",
      "GEN I 0\n",
      "GEN IDX  0\n",
      "GEN I 1\n",
      "X GEN  74\n",
      "GEN IDX  1\n",
      "Y GEN  70\n",
      "1\n",
      "GEN I 1\n",
      "X GEN  1\n",
      "GEN IDX  1\n",
      "Y GEN  1\n",
      "GEN I 0\n",
      "GEN IDX  1\n",
      "Y GEN  3\n",
      "GEN I 0\n",
      "GEN IDX  0\n",
      "GEN I 1\n",
      "X GEN  9\n",
      "GEN IDX  1\n",
      "Y GEN  11\n",
      "GEN I 0\n",
      "GEN IDX  0\n",
      "GEN I 0\n",
      "GEN IDX  0\n",
      "GEN I 1\n",
      "X GEN  73\n",
      "GEN IDX  0\n",
      "2\n",
      "GEN I 0\n",
      "GEN IDX  0\n",
      "GEN I 0\n",
      "GEN IDX  0\n",
      "GEN I 0\n",
      "GEN IDX  1\n",
      "Y GEN  4\n",
      "GEN I 0\n",
      "GEN IDX  1\n",
      "Y GEN  12\n",
      "GEN I 1\n",
      "X GEN  16\n",
      "GEN IDX  1\n",
      "Y GEN  28\n",
      "GEN I 0\n",
      "GEN IDX  0\n",
      "GEN I 1\n",
      "X GEN  80\n",
      "GEN IDX  0\n",
      "3\n",
      "GEN I 1\n",
      "X GEN  1\n",
      "GEN IDX  0\n",
      "GEN I 1\n",
      "X GEN  3\n",
      "GEN IDX  0\n",
      "GEN I 1\n",
      "X GEN  7\n",
      "GEN IDX  0\n",
      "GEN I 0\n",
      "GEN IDX  0\n",
      "GEN I 1\n",
      "X GEN  23\n",
      "GEN IDX  0\n",
      "GEN I 0\n",
      "GEN IDX  0\n",
      "GEN I 1\n",
      "X GEN  87\n",
      "GEN IDX  1\n",
      "Y GEN  64\n",
      "4\n",
      "GEN I 1\n",
      "X GEN  1\n",
      "GEN IDX  1\n",
      "Y GEN  1\n",
      "GEN I 0\n",
      "GEN IDX  0\n",
      "GEN I 0\n",
      "GEN IDX  0\n",
      "GEN I 0\n",
      "GEN IDX  1\n",
      "Y GEN  9\n",
      "GEN I 1\n",
      "X GEN  17\n",
      "GEN IDX  0\n",
      "GEN I 1\n",
      "X GEN  49\n",
      "GEN IDX  0\n",
      "GEN I 0\n",
      "GEN IDX  0\n",
      "5\n",
      "GEN I 0\n",
      "GEN IDX  0\n",
      "GEN I 0\n",
      "GEN IDX  0\n",
      "GEN I 1\n",
      "X GEN  4\n",
      "GEN IDX  1\n",
      "Y GEN  4\n",
      "GEN I 1\n",
      "X GEN  12\n",
      "GEN IDX  1\n",
      "Y GEN  12\n",
      "GEN I 0\n",
      "GEN IDX  0\n",
      "GEN I 0\n",
      "GEN IDX  0\n",
      "GEN I 0\n",
      "GEN IDX  1\n",
      "Y GEN  76\n",
      "6\n",
      "GEN I 0\n",
      "GEN IDX  0\n",
      "GEN I 1\n",
      "X GEN  2\n",
      "GEN IDX  1\n",
      "Y GEN  2\n",
      "GEN I 0\n",
      "GEN IDX  1\n",
      "Y GEN  6\n",
      "GEN I 0\n",
      "GEN IDX  1\n",
      "Y GEN  14\n",
      "GEN I 0\n",
      "GEN IDX  0\n",
      "GEN I 0\n",
      "GEN IDX  1\n",
      "Y GEN  46\n",
      "GEN I 0\n",
      "GEN IDX  1\n",
      "Y GEN  110\n",
      "7\n",
      "GEN I 1\n",
      "X GEN  1\n",
      "GEN IDX  1\n",
      "Y GEN  1\n",
      "GEN I 1\n",
      "X GEN  3\n",
      "GEN IDX  1\n",
      "Y GEN  3\n",
      "GEN I 1\n",
      "X GEN  7\n",
      "GEN IDX  1\n",
      "Y GEN  7\n",
      "GEN I 1\n",
      "X GEN  15\n",
      "GEN IDX  1\n",
      "Y GEN  15\n",
      "GEN I 0\n",
      "GEN IDX  1\n",
      "Y GEN  31\n",
      "GEN I 0\n",
      "GEN IDX  1\n",
      "Y GEN  63\n",
      "GEN I 1\n",
      "X GEN  79\n",
      "GEN IDX  0\n",
      "8\n",
      "GEN I 0\n",
      "GEN IDX  1\n",
      "Y GEN  1\n",
      "GEN I 1\n",
      "X GEN  2\n",
      "GEN IDX  0\n",
      "GEN I 0\n",
      "GEN IDX  0\n",
      "GEN I 1\n",
      "X GEN  10\n",
      "GEN IDX  0\n",
      "GEN I 0\n",
      "GEN IDX  0\n",
      "GEN I 1\n",
      "X GEN  42\n",
      "GEN IDX  0\n",
      "GEN I 1\n",
      "X GEN  106\n",
      "GEN IDX  0\n",
      "9\n",
      "GEN I 0\n",
      "GEN IDX  0\n",
      "GEN I 1\n",
      "X GEN  2\n",
      "GEN IDX  0\n",
      "GEN I 1\n",
      "X GEN  6\n",
      "GEN IDX  1\n",
      "Y GEN  4\n",
      "GEN I 1\n",
      "X GEN  14\n",
      "GEN IDX  1\n",
      "Y GEN  12\n",
      "GEN I 1\n",
      "X GEN  30\n",
      "GEN IDX  1\n",
      "Y GEN  28\n",
      "GEN I 1\n",
      "X GEN  62\n",
      "GEN IDX  1\n",
      "Y GEN  60\n",
      "GEN I 1\n",
      "X GEN  126\n",
      "GEN IDX  1\n",
      "Y GEN  124\n",
      "[0, 1, 0, 1, 0, 0, 1, 0, 1, 1, 0, 0, 0, 1]\n",
      "[1, 0, 0, 1, 0, 0, 1, 1, 1, 0, 1, 0, 0, 0]\n",
      "[0, 0, 0, 0, 1, 0, 1, 0, 0, 1, 1, 1, 0, 0]\n",
      "[1, 1, 1, 0, 1, 0, 1, 0, 0, 0, 0, 0, 0, 1]\n",
      "[1, 0, 0, 0, 1, 1, 0, 1, 0, 0, 1, 0, 0, 0]\n",
      "[0, 0, 1, 1, 0, 0, 0, 0, 0, 1, 1, 0, 0, 1]\n",
      "[0, 1, 0, 0, 0, 0, 0, 0, 1, 1, 1, 0, 1, 1]\n",
      "[1, 1, 1, 1, 0, 0, 1, 1, 1, 1, 1, 1, 1, 0]\n",
      "[0, 1, 0, 1, 0, 1, 1, 1, 0, 0, 0, 0, 0, 0]\n",
      "[0, 1, 1, 1, 1, 1, 1, 0, 0, 1, 1, 1, 1, 1]\n"
     ]
    }
   ],
   "source": [
    "class Population():\n",
    "    def __init__(self):\n",
    "        self.populationx = []\n",
    "        self.populationy = []\n",
    "        self.population = []\n",
    "        # Make a population with 10 individu\n",
    "        for i in range (10):\n",
    "            new = Individu()\n",
    "            self.population.append(new)\n",
    "            \n",
    "    def setFenotype(self):\n",
    "        for i in range (10):\n",
    "            print(i)\n",
    "            self.population[i].decodeKromosom()\n",
    "            self.populationx.append(self.population[i].xFenotype)\n",
    "            self.populationy.append(self.population[i].yFenotype)\n",
    "    \n",
    "newPop = Population()\n",
    "newPop.setFenotype()\n",
    "for i in range(10):\n",
    "    print(newPop.population[i].getGene())"
   ]
  },
  {
   "cell_type": "code",
   "execution_count": 11,
   "metadata": {
    "scrolled": true
   },
   "outputs": [
    {
     "name": "stdout",
     "output_type": "stream",
     "text": [
      "0  X :  -0.4173228346456693 Y :  -0.44881889763779526\n",
      "[0.8835861377651741, [0, 1, 0, 1, 0, 0, 1, 0, 1, 1, 0, 0, 0, 1]]\n",
      "1  X :  -0.4251968503937008 Y :  -0.9133858267716536\n",
      "[0.7111258439083051, [1, 0, 0, 1, 0, 0, 1, 1, 1, 0, 1, 0, 0, 0]]\n",
      "2  X :  -0.3700787401574803 Y :  -0.7795275590551181\n",
      "[1.1140773603292105, [0, 0, 0, 0, 1, 0, 1, 0, 0, 1, 1, 1, 0, 0]]\n",
      "3  X :  -0.31496062992125984 Y :  -0.49606299212598426\n",
      "[1.1562027371747743, [1, 1, 1, 0, 1, 0, 1, 0, 0, 0, 0, 0, 0, 1]]\n",
      "4  X :  -0.6141732283464567 Y :  -0.9291338582677166\n",
      "[0.39873692253841275, [1, 0, 0, 0, 1, 1, 0, 1, 0, 0, 1, 0, 0, 0]]\n",
      "5  X :  -0.905511811023622 Y :  -0.40157480314960625\n",
      "[0.2727604719529874, [0, 0, 1, 1, 0, 0, 0, 0, 0, 1, 1, 0, 0, 1]]\n",
      "6  X :  -0.984251968503937 Y :  -0.13385826771653542\n",
      "[0.2075293123675015, [0, 1, 0, 0, 0, 0, 0, 0, 1, 1, 1, 0, 1, 1]]\n",
      "7  X :  -0.3779527559055118 Y :  -0.5039370078740157\n",
      "[1.0265936166289011, [1, 1, 1, 1, 0, 0, 1, 1, 1, 1, 1, 1, 1, 0]]\n",
      "8  X :  -0.16535433070866146 Y :  -0.9921259842519685\n",
      "[0.8644788023618111, [0, 1, 0, 1, 0, 1, 1, 1, 0, 0, 0, 0, 0, 0]]\n",
      "9  X :  -0.007874015748031482 Y :  -0.023622047244094446\n",
      "[1.0012461992925892, [0, 1, 1, 1, 1, 1, 1, 0, 0, 1, 1, 1, 1, 1]]\n",
      "== SORTED ==\n"
     ]
    },
    {
     "data": {
      "text/plain": [
       "[[0.2075293123675015, [0, 1, 0, 0, 0, 0, 0, 0, 1, 1, 1, 0, 1, 1]],\n",
       " [0.2727604719529874, [0, 0, 1, 1, 0, 0, 0, 0, 0, 1, 1, 0, 0, 1]],\n",
       " [0.39873692253841275, [1, 0, 0, 0, 1, 1, 0, 1, 0, 0, 1, 0, 0, 0]],\n",
       " [0.7111258439083051, [1, 0, 0, 1, 0, 0, 1, 1, 1, 0, 1, 0, 0, 0]],\n",
       " [0.8644788023618111, [0, 1, 0, 1, 0, 1, 1, 1, 0, 0, 0, 0, 0, 0]],\n",
       " [0.8835861377651741, [0, 1, 0, 1, 0, 0, 1, 0, 1, 1, 0, 0, 0, 1]],\n",
       " [1.0012461992925892, [0, 1, 1, 1, 1, 1, 1, 0, 0, 1, 1, 1, 1, 1]],\n",
       " [1.0265936166289011, [1, 1, 1, 1, 0, 0, 1, 1, 1, 1, 1, 1, 1, 0]],\n",
       " [1.1140773603292105, [0, 0, 0, 0, 1, 0, 1, 0, 0, 1, 1, 1, 0, 0]],\n",
       " [1.1562027371747743, [1, 1, 1, 0, 1, 0, 1, 0, 0, 0, 0, 0, 0, 1]]]"
      ]
     },
     "execution_count": 11,
     "metadata": {},
     "output_type": "execute_result"
    }
   ],
   "source": [
    "fitness = []\n",
    "for i in range (10):\n",
    "    print(i,\" X : \", newPop.populationx[i], \"Y : \", newPop.populationy[i])\n",
    "    fitness.append([rumus(newPop.populationx[i], newPop.populationy[i]), newPop.population[i].getGene()])\n",
    "    print(fitness[i])\n",
    "fitness.sort()\n",
    "print(\"== SORTED ==\")\n",
    "fitness"
   ]
  },
  {
   "cell_type": "markdown",
   "metadata": {},
   "source": [
    "# - - - Baru dapetin fitness orang tua"
   ]
  },
  {
   "cell_type": "code",
   "execution_count": 70,
   "metadata": {
    "scrolled": true
   },
   "outputs": [
    {
     "data": {
      "text/plain": [
       "[0.027176550927426005,\n",
       " 0.0357187559311738,\n",
       " 0.052215728748818545,\n",
       " 0.09312394231114524,\n",
       " 0.1132059463313917,\n",
       " 0.1157081059914081,\n",
       " 0.13111602411991535,\n",
       " 0.13443534017344302,\n",
       " 0.1458915840595267,\n",
       " 0.15140802140575169]"
      ]
     },
     "execution_count": 70,
     "metadata": {},
     "output_type": "execute_result"
    }
   ],
   "source": [
    "sumFit = 0\n",
    "for i in range (10):\n",
    "    sumFit = sumFit + fitness[i][0]\n",
    "\n",
    "# probabilitas for every individu to be parent\n",
    "probFit = []\n",
    "for i in range (10):\n",
    "    probFit.append(fitness[i][0]/sumFit)\n",
    "probFit"
   ]
  },
  {
   "cell_type": "code",
   "execution_count": 95,
   "metadata": {},
   "outputs": [],
   "source": [
    "def chooseParent(x):\n",
    "    if (0 <= x and x < 0.028):\n",
    "        return fitness[0][1]\n",
    "    elif (0.028 <= x and x < 0.036):\n",
    "        return fitness[1][1]\n",
    "    elif (0.036 <= x and x < 0.053):\n",
    "        return fitness[2][1]\n",
    "    elif (0.053 <= x and x < 0.094):\n",
    "        return fitness[3][1]\n",
    "    elif (0.094 <= x and x < 0.114):\n",
    "        return fitness[4][1]\n",
    "    elif (0.114 <= x and x < 0.116):\n",
    "        return fitness[5][1]\n",
    "    elif (0.116 <= x and x < 0.132):\n",
    "        return fitness[6][1]\n",
    "    elif (0.132 <= x and x < 0.135):\n",
    "        return fitness[7][1]\n",
    "    elif (0.135 <= x and x < 0.146):\n",
    "        return fitness[8][1]\n",
    "    elif (0.146 <= x and x < 0.152):\n",
    "        return fitness[9][1]"
   ]
  },
  {
   "cell_type": "code",
   "execution_count": 96,
   "metadata": {},
   "outputs": [
    {
     "name": "stdout",
     "output_type": "stream",
     "text": [
      "0.1487262594807793 ----- 0.1163410077757571\n",
      "[1, 1, 1, 0, 1, 0, 1, 0, 0, 0, 0, 0, 0, 1]     [0, 1, 1, 1, 1, 1, 1, 0, 0, 1, 1, 1, 1, 1]\n"
     ]
    }
   ],
   "source": [
    "ch1 = rd.uniform(0,0.151)\n",
    "ch2 = rd.uniform(0,0.151)\n",
    "\n",
    "print(ch1, \"-----\", ch2)\n",
    "\n",
    "parent1 = chooseParent(ch1)\n",
    "parent2 = chooseParent(ch2)\n",
    "\n",
    "print(parent1, \"   \", parent2)"
   ]
  },
  {
   "cell_type": "markdown",
   "metadata": {},
   "source": [
    "##### Lanjut ke rekombinasi"
   ]
  }
 ],
 "metadata": {
  "kernelspec": {
   "display_name": "Python 3",
   "language": "python",
   "name": "python3"
  },
  "language_info": {
   "codemirror_mode": {
    "name": "ipython",
    "version": 3
   },
   "file_extension": ".py",
   "mimetype": "text/x-python",
   "name": "python",
   "nbconvert_exporter": "python",
   "pygments_lexer": "ipython3",
   "version": "3.7.1"
  }
 },
 "nbformat": 4,
 "nbformat_minor": 2
}
