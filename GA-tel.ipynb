{
 "cells": [
  {
   "cell_type": "code",
   "execution_count": 1,
   "metadata": {},
   "outputs": [],
   "source": [
    "import math\n",
    "import numpy as np\n",
    "import pandas as pd\n",
    "import random as rd"
   ]
  },
  {
   "cell_type": "code",
   "execution_count": 2,
   "metadata": {},
   "outputs": [],
   "source": [
    "x1 = rd.randrange(-4, 4)\n",
    "x2 = rd.randrange(-3, 3)"
   ]
  },
  {
   "cell_type": "markdown",
   "metadata": {},
   "source": [
    "##### Formula's initialitation"
   ]
  },
  {
   "cell_type": "code",
   "execution_count": 9,
   "metadata": {},
   "outputs": [
    {
     "name": "stdout",
     "output_type": "stream",
     "text": [
      "0.8081419765374837\n"
     ]
    }
   ],
   "source": [
    "def rumus(x1, x2):\n",
    "    hasil = (4 - (2.1 * (x1**2)) + ((x1**4)/3)) * (x1**2) + (x1*x2) + (-4 + (4*(x2**2))) * (x2**2)\n",
    "    return 1/hasil\n",
    "\n",
    "print(rumus(-0.7, -0.4))"
   ]
  },
  {
   "cell_type": "markdown",
   "metadata": {},
   "source": [
    "##### Formula to decode the kromosom "
   ]
  },
  {
   "cell_type": "code",
   "execution_count": 4,
   "metadata": {},
   "outputs": [],
   "source": [
    "def decodeRumus(x):\n",
    "    if (x1 <= x2):\n",
    "        xmin = x1\n",
    "        xmax = x2\n",
    "    else:\n",
    "        xmin = x2\n",
    "        xmax =x1\n",
    "    # because the gene is 14 bit, half of them is 7 bit\n",
    "    # then decimal of 7 bit is 127\n",
    "    return (xmin + ((x - 0) / (127 - 0)) * (xmax - xmin))"
   ]
  },
  {
   "cell_type": "markdown",
   "metadata": {},
   "source": [
    "##### Individu"
   ]
  },
  {
   "cell_type": "code",
   "execution_count": 5,
   "metadata": {},
   "outputs": [
    {
     "name": "stdout",
     "output_type": "stream",
     "text": [
      "[1, 1, 1, 1, 0, 1, 1, 1, 1, 0, 0, 0, 1, 0] ---\n",
      "0 I\n",
      "7 IDX\n",
      "1 I\n",
      "8 IDX\n",
      "2 I\n",
      "9 IDX\n",
      "3 I\n",
      "10 IDX\n",
      "4 I\n",
      "11 IDX\n",
      "5 I\n",
      "12 IDX\n",
      "6 I\n",
      "13 IDX\n",
      "0.7480314960629921 X Fenotip\n",
      "-0.44881889763779526 Y Fenotip\n"
     ]
    }
   ],
   "source": [
    "\n",
    "class Individu():\n",
    "    def __init__(self):\n",
    "        # length of\n",
    "        self.genes = []\n",
    "        self.xFenotype = 0\n",
    "        self.yFenotype = 0\n",
    "        # Kromosom's initialitation with 14 dna\n",
    "        for i in range (14):\n",
    "            self.genes.append(rd.randint(0,1))\n",
    "    \n",
    "    # get Kromosom\n",
    "    def getGene(self):\n",
    "        return self.genes\n",
    "    \n",
    "    # Decode kromosom\n",
    "    def decodeKromosom(self):\n",
    "        i = 0\n",
    "        gen = self.genes\n",
    "        idx = 7\n",
    "        xGenotype = 0 \n",
    "        yGenotype = 0\n",
    "        \n",
    "        \n",
    "        while i < 7 :\n",
    "            if gen[i] == 1:\n",
    "                xGenotype = xGenotype + (2**i)\n",
    "            if gen[idx] == 1:\n",
    "                yGenotype = yGenotype + (2**i)\n",
    "            print(i, \"I\")\n",
    "            print(idx, \"IDX\")\n",
    "            i += 1\n",
    "            idx += 1\n",
    "            \n",
    "        self.xFenotype = decodeRumus(xGenotype)\n",
    "        self.yFenotype = decodeRumus(yGenotype)\n",
    "\n",
    "\n",
    "\n",
    "# DEBUGGING\n",
    "\n",
    "newInd = Individu()\n",
    "print(newInd.getGene(), \"---\")\n",
    "newInd.decodeKromosom()\n",
    "print(newInd.xFenotype, \"X Fenotip\")\n",
    "print(newInd.yFenotype, \"Y Fenotip\")"
   ]
  },
  {
   "cell_type": "markdown",
   "metadata": {},
   "source": [
    "###### Population"
   ]
  },
  {
   "cell_type": "code",
   "execution_count": 6,
   "metadata": {},
   "outputs": [
    {
     "name": "stdout",
     "output_type": "stream",
     "text": [
      "0 ===============\n",
      "0 I\n",
      "7 IDX\n",
      "1 I\n",
      "8 IDX\n",
      "2 I\n",
      "9 IDX\n",
      "3 I\n",
      "10 IDX\n",
      "4 I\n",
      "11 IDX\n",
      "5 I\n",
      "12 IDX\n",
      "6 I\n",
      "13 IDX\n",
      "1 ===============\n",
      "0 I\n",
      "7 IDX\n",
      "1 I\n",
      "8 IDX\n",
      "2 I\n",
      "9 IDX\n",
      "3 I\n",
      "10 IDX\n",
      "4 I\n",
      "11 IDX\n",
      "5 I\n",
      "12 IDX\n",
      "6 I\n",
      "13 IDX\n",
      "2 ===============\n",
      "0 I\n",
      "7 IDX\n",
      "1 I\n",
      "8 IDX\n",
      "2 I\n",
      "9 IDX\n",
      "3 I\n",
      "10 IDX\n",
      "4 I\n",
      "11 IDX\n",
      "5 I\n",
      "12 IDX\n",
      "6 I\n",
      "13 IDX\n",
      "3 ===============\n",
      "0 I\n",
      "7 IDX\n",
      "1 I\n",
      "8 IDX\n",
      "2 I\n",
      "9 IDX\n",
      "3 I\n",
      "10 IDX\n",
      "4 I\n",
      "11 IDX\n",
      "5 I\n",
      "12 IDX\n",
      "6 I\n",
      "13 IDX\n",
      "4 ===============\n",
      "0 I\n",
      "7 IDX\n",
      "1 I\n",
      "8 IDX\n",
      "2 I\n",
      "9 IDX\n",
      "3 I\n",
      "10 IDX\n",
      "4 I\n",
      "11 IDX\n",
      "5 I\n",
      "12 IDX\n",
      "6 I\n",
      "13 IDX\n",
      "5 ===============\n",
      "0 I\n",
      "7 IDX\n",
      "1 I\n",
      "8 IDX\n",
      "2 I\n",
      "9 IDX\n",
      "3 I\n",
      "10 IDX\n",
      "4 I\n",
      "11 IDX\n",
      "5 I\n",
      "12 IDX\n",
      "6 I\n",
      "13 IDX\n",
      "6 ===============\n",
      "0 I\n",
      "7 IDX\n",
      "1 I\n",
      "8 IDX\n",
      "2 I\n",
      "9 IDX\n",
      "3 I\n",
      "10 IDX\n",
      "4 I\n",
      "11 IDX\n",
      "5 I\n",
      "12 IDX\n",
      "6 I\n",
      "13 IDX\n",
      "7 ===============\n",
      "0 I\n",
      "7 IDX\n",
      "1 I\n",
      "8 IDX\n",
      "2 I\n",
      "9 IDX\n",
      "3 I\n",
      "10 IDX\n",
      "4 I\n",
      "11 IDX\n",
      "5 I\n",
      "12 IDX\n",
      "6 I\n",
      "13 IDX\n",
      "8 ===============\n",
      "0 I\n",
      "7 IDX\n",
      "1 I\n",
      "8 IDX\n",
      "2 I\n",
      "9 IDX\n",
      "3 I\n",
      "10 IDX\n",
      "4 I\n",
      "11 IDX\n",
      "5 I\n",
      "12 IDX\n",
      "6 I\n",
      "13 IDX\n",
      "9 ===============\n",
      "0 I\n",
      "7 IDX\n",
      "1 I\n",
      "8 IDX\n",
      "2 I\n",
      "9 IDX\n",
      "3 I\n",
      "10 IDX\n",
      "4 I\n",
      "11 IDX\n",
      "5 I\n",
      "12 IDX\n",
      "6 I\n",
      "13 IDX\n"
     ]
    }
   ],
   "source": [
    "class Population():\n",
    "    def __init__(self):\n",
    "        self.populationx = []\n",
    "        self.populationy = []\n",
    "        # Make a population with 10 individu\n",
    "        for i in range (10):\n",
    "            new = Individu()\n",
    "            print(i, \"===============\")\n",
    "            new.decodeKromosom()\n",
    "            self.populationx.append(new.xFenotype)\n",
    "            self.populationy.append(new.yFenotype)\n",
    "    \n",
    "newPop = Population()"
   ]
  },
  {
   "cell_type": "code",
   "execution_count": 11,
   "metadata": {
    "scrolled": true
   },
   "outputs": [
    {
     "name": "stdout",
     "output_type": "stream",
     "text": [
      "0  X :  -0.7322834645669292 Y :  -0.4803149606299213\n",
      "0.8101714337476825\n",
      "1  X :  0.6535433070866141 Y :  0.40157480314960625\n",
      "0.9321715734370998\n",
      "2  X :  -0.3228346456692913 Y :  0.8582677165354331\n",
      "-1.5182329549378275\n",
      "3  X :  -0.007874015748031482 Y :  0.03937007874015741\n",
      "-159.93831350861126\n",
      "4  X :  0.40157480314960625 Y :  0.32283464566929143\n",
      "2.873248911771707\n",
      "5  X :  -0.21259842519685035 Y :  -0.21259842519685035\n",
      "20.362320488173722\n",
      "6  X :  -0.7637795275590551 Y :  0.795275590551181\n",
      "6.768885588616807\n",
      "7  X :  0.49606299212598426 Y :  0.4803149606299213\n",
      "2.561032904502719\n",
      "8  X :  0.16535433070866135 Y :  -0.40157480314960625\n",
      "-2.0015044160787756\n",
      "9  X :  0.07086614173228356 Y :  0.7637795275590551\n",
      "-1.1135314708962176\n",
      "== SORTED ==\n"
     ]
    },
    {
     "data": {
      "text/plain": [
       "[-159.93831350861126,\n",
       " -2.0015044160787756,\n",
       " -1.5182329549378275,\n",
       " -1.1135314708962176,\n",
       " 0.8101714337476825,\n",
       " 0.9321715734370998,\n",
       " 2.561032904502719,\n",
       " 2.873248911771707,\n",
       " 6.768885588616807,\n",
       " 20.362320488173722]"
      ]
     },
     "execution_count": 11,
     "metadata": {},
     "output_type": "execute_result"
    }
   ],
   "source": [
    "fitness = []\n",
    "for i in range (10):\n",
    "    print(i,\" X : \", newPop.populationx[i], \"Y : \", newPop.populationy[i])\n",
    "    fitness.append(rumus(newPop.populationx[i], newPop.populationy[i]))\n",
    "    print(fitness[i])\n",
    "fitness.sort()\n",
    "print(\"== SORTED ==\")\n",
    "fitness"
   ]
  },
  {
   "cell_type": "markdown",
   "metadata": {},
   "source": [
    "# - - - Baru dapetin fitness orang tua"
   ]
  }
 ],
 "metadata": {
  "kernelspec": {
   "display_name": "Python 3",
   "language": "python",
   "name": "python3"
  },
  "language_info": {
   "codemirror_mode": {
    "name": "ipython",
    "version": 3
   },
   "file_extension": ".py",
   "mimetype": "text/x-python",
   "name": "python",
   "nbconvert_exporter": "python",
   "pygments_lexer": "ipython3",
   "version": "3.7.1"
  }
 },
 "nbformat": 4,
 "nbformat_minor": 2
}
